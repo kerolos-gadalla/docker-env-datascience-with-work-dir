{
 "cells": [
  {
   "cell_type": "markdown",
   "metadata": {
    "id": "ol4mFz7DWpCw"
   },
   "source": [
    "# (Dataset Exploration Title)\n",
    "## by (your name here)\n",
    "\n",
    "## Preliminary Wrangling\n",
    "\n",
    "> Briefly introduce your dataset here."
   ]
  },
  {
   "cell_type": "code",
   "execution_count": 1,
   "metadata": {
    "id": "oibbwiZhWpDB"
   },
   "outputs": [],
   "source": [
    "# import all packages and set plots to be embedded inline\n",
    "import numpy as np\n",
    "import pandas as pd\n",
    "import matplotlib.pyplot as plt\n",
    "import seaborn as sb\n",
    "\n",
    "%matplotlib inline"
   ]
  },
  {
   "cell_type": "markdown",
   "metadata": {
    "id": "3Vorn_JRW3UX"
   },
   "source": [
    "Chosen dataset\n",
    "\n",
    "[Loan Data](https://s3.amazonaws.com/udacity-hosted-downloads/ud651/prosperLoanData.csv)\n",
    "\n",
    "[Prosper Data Dictionary to Explain Dataset's Variables](https://docs.google.com/spreadsheets/d/1gDyi_L4UvIrLTEC6Wri5nbaMmkGmLQBk-Yx3z0XDEtI/edit#gid=0)  \n",
    "\n",
    "[extra Info](https://docs.google.com/document/d/e/2PACX-1vQmkX4iOT6Rcrin42vslquX2_wQCjIa_hbwD0xmxrERPSOJYDtpNc_3wwK_p9_KpOsfA6QVyEHdxxq7/pub)"
   ]
  },
  {
   "cell_type": "markdown",
   "metadata": {
    "id": "3QV72S9FWpDO"
   },
   "source": [
    "> Load in your dataset and describe its properties through the questions below.\n",
    "Try and motivate your exploration goals through this section."
   ]
  },
  {
   "cell_type": "code",
   "execution_count": 2,
   "metadata": {
    "id": "0057wRFQWpDS"
   },
   "outputs": [],
   "source": [
    "\n",
    "# url = 'https://s3.amazonaws.com/udacity-hosted-downloads/ud651/prosperLoanData.csv'\n",
    "# url = \"http://ww2.amstat.org/sections/graphics/datasets/DataExpo2009.zip\"\n",
    "\n",
    "url = 'prosperLoanData.csv'"
   ]
  },
  {
   "cell_type": "code",
   "execution_count": 3,
   "metadata": {
    "colab": {
     "base_uri": "https://localhost:8080/",
     "height": 403
    },
    "id": "qMlQL_qDW9XM",
    "outputId": "0e74b48f-cb0f-4bdc-cbe2-37bcdf576c40"
   },
   "outputs": [
    {
     "data": {
      "text/html": [
       "<div>\n",
       "<style scoped>\n",
       "    .dataframe tbody tr th:only-of-type {\n",
       "        vertical-align: middle;\n",
       "    }\n",
       "\n",
       "    .dataframe tbody tr th {\n",
       "        vertical-align: top;\n",
       "    }\n",
       "\n",
       "    .dataframe thead th {\n",
       "        text-align: right;\n",
       "    }\n",
       "</style>\n",
       "<table border=\"1\" class=\"dataframe\">\n",
       "  <thead>\n",
       "    <tr style=\"text-align: right;\">\n",
       "      <th></th>\n",
       "      <th>ListingKey</th>\n",
       "      <th>ListingNumber</th>\n",
       "      <th>ListingCreationDate</th>\n",
       "      <th>CreditGrade</th>\n",
       "      <th>Term</th>\n",
       "      <th>LoanStatus</th>\n",
       "      <th>ClosedDate</th>\n",
       "      <th>BorrowerAPR</th>\n",
       "      <th>BorrowerRate</th>\n",
       "      <th>LenderYield</th>\n",
       "      <th>...</th>\n",
       "      <th>LP_ServiceFees</th>\n",
       "      <th>LP_CollectionFees</th>\n",
       "      <th>LP_GrossPrincipalLoss</th>\n",
       "      <th>LP_NetPrincipalLoss</th>\n",
       "      <th>LP_NonPrincipalRecoverypayments</th>\n",
       "      <th>PercentFunded</th>\n",
       "      <th>Recommendations</th>\n",
       "      <th>InvestmentFromFriendsCount</th>\n",
       "      <th>InvestmentFromFriendsAmount</th>\n",
       "      <th>Investors</th>\n",
       "    </tr>\n",
       "  </thead>\n",
       "  <tbody>\n",
       "    <tr>\n",
       "      <th>0</th>\n",
       "      <td>1021339766868145413AB3B</td>\n",
       "      <td>193129</td>\n",
       "      <td>2007-08-26 19:09:29.263000000</td>\n",
       "      <td>C</td>\n",
       "      <td>36</td>\n",
       "      <td>Completed</td>\n",
       "      <td>2009-08-14 00:00:00</td>\n",
       "      <td>0.16516</td>\n",
       "      <td>0.1580</td>\n",
       "      <td>0.1380</td>\n",
       "      <td>...</td>\n",
       "      <td>-133.18</td>\n",
       "      <td>0.0</td>\n",
       "      <td>0.0</td>\n",
       "      <td>0.0</td>\n",
       "      <td>0.0</td>\n",
       "      <td>1.0</td>\n",
       "      <td>0</td>\n",
       "      <td>0</td>\n",
       "      <td>0.0</td>\n",
       "      <td>258</td>\n",
       "    </tr>\n",
       "    <tr>\n",
       "      <th>1</th>\n",
       "      <td>10273602499503308B223C1</td>\n",
       "      <td>1209647</td>\n",
       "      <td>2014-02-27 08:28:07.900000000</td>\n",
       "      <td>NaN</td>\n",
       "      <td>36</td>\n",
       "      <td>Current</td>\n",
       "      <td>NaN</td>\n",
       "      <td>0.12016</td>\n",
       "      <td>0.0920</td>\n",
       "      <td>0.0820</td>\n",
       "      <td>...</td>\n",
       "      <td>0.00</td>\n",
       "      <td>0.0</td>\n",
       "      <td>0.0</td>\n",
       "      <td>0.0</td>\n",
       "      <td>0.0</td>\n",
       "      <td>1.0</td>\n",
       "      <td>0</td>\n",
       "      <td>0</td>\n",
       "      <td>0.0</td>\n",
       "      <td>1</td>\n",
       "    </tr>\n",
       "    <tr>\n",
       "      <th>2</th>\n",
       "      <td>0EE9337825851032864889A</td>\n",
       "      <td>81716</td>\n",
       "      <td>2007-01-05 15:00:47.090000000</td>\n",
       "      <td>HR</td>\n",
       "      <td>36</td>\n",
       "      <td>Completed</td>\n",
       "      <td>2009-12-17 00:00:00</td>\n",
       "      <td>0.28269</td>\n",
       "      <td>0.2750</td>\n",
       "      <td>0.2400</td>\n",
       "      <td>...</td>\n",
       "      <td>-24.20</td>\n",
       "      <td>0.0</td>\n",
       "      <td>0.0</td>\n",
       "      <td>0.0</td>\n",
       "      <td>0.0</td>\n",
       "      <td>1.0</td>\n",
       "      <td>0</td>\n",
       "      <td>0</td>\n",
       "      <td>0.0</td>\n",
       "      <td>41</td>\n",
       "    </tr>\n",
       "    <tr>\n",
       "      <th>3</th>\n",
       "      <td>0EF5356002482715299901A</td>\n",
       "      <td>658116</td>\n",
       "      <td>2012-10-22 11:02:35.010000000</td>\n",
       "      <td>NaN</td>\n",
       "      <td>36</td>\n",
       "      <td>Current</td>\n",
       "      <td>NaN</td>\n",
       "      <td>0.12528</td>\n",
       "      <td>0.0974</td>\n",
       "      <td>0.0874</td>\n",
       "      <td>...</td>\n",
       "      <td>-108.01</td>\n",
       "      <td>0.0</td>\n",
       "      <td>0.0</td>\n",
       "      <td>0.0</td>\n",
       "      <td>0.0</td>\n",
       "      <td>1.0</td>\n",
       "      <td>0</td>\n",
       "      <td>0</td>\n",
       "      <td>0.0</td>\n",
       "      <td>158</td>\n",
       "    </tr>\n",
       "    <tr>\n",
       "      <th>4</th>\n",
       "      <td>0F023589499656230C5E3E2</td>\n",
       "      <td>909464</td>\n",
       "      <td>2013-09-14 18:38:39.097000000</td>\n",
       "      <td>NaN</td>\n",
       "      <td>36</td>\n",
       "      <td>Current</td>\n",
       "      <td>NaN</td>\n",
       "      <td>0.24614</td>\n",
       "      <td>0.2085</td>\n",
       "      <td>0.1985</td>\n",
       "      <td>...</td>\n",
       "      <td>-60.27</td>\n",
       "      <td>0.0</td>\n",
       "      <td>0.0</td>\n",
       "      <td>0.0</td>\n",
       "      <td>0.0</td>\n",
       "      <td>1.0</td>\n",
       "      <td>0</td>\n",
       "      <td>0</td>\n",
       "      <td>0.0</td>\n",
       "      <td>20</td>\n",
       "    </tr>\n",
       "  </tbody>\n",
       "</table>\n",
       "<p>5 rows × 81 columns</p>\n",
       "</div>"
      ],
      "text/plain": [
       "                ListingKey  ListingNumber            ListingCreationDate  \\\n",
       "0  1021339766868145413AB3B         193129  2007-08-26 19:09:29.263000000   \n",
       "1  10273602499503308B223C1        1209647  2014-02-27 08:28:07.900000000   \n",
       "2  0EE9337825851032864889A          81716  2007-01-05 15:00:47.090000000   \n",
       "3  0EF5356002482715299901A         658116  2012-10-22 11:02:35.010000000   \n",
       "4  0F023589499656230C5E3E2         909464  2013-09-14 18:38:39.097000000   \n",
       "\n",
       "  CreditGrade  Term LoanStatus           ClosedDate  BorrowerAPR  \\\n",
       "0           C    36  Completed  2009-08-14 00:00:00      0.16516   \n",
       "1         NaN    36    Current                  NaN      0.12016   \n",
       "2          HR    36  Completed  2009-12-17 00:00:00      0.28269   \n",
       "3         NaN    36    Current                  NaN      0.12528   \n",
       "4         NaN    36    Current                  NaN      0.24614   \n",
       "\n",
       "   BorrowerRate  LenderYield  ...  LP_ServiceFees  LP_CollectionFees  \\\n",
       "0        0.1580       0.1380  ...         -133.18                0.0   \n",
       "1        0.0920       0.0820  ...            0.00                0.0   \n",
       "2        0.2750       0.2400  ...          -24.20                0.0   \n",
       "3        0.0974       0.0874  ...         -108.01                0.0   \n",
       "4        0.2085       0.1985  ...          -60.27                0.0   \n",
       "\n",
       "   LP_GrossPrincipalLoss  LP_NetPrincipalLoss LP_NonPrincipalRecoverypayments  \\\n",
       "0                    0.0                  0.0                             0.0   \n",
       "1                    0.0                  0.0                             0.0   \n",
       "2                    0.0                  0.0                             0.0   \n",
       "3                    0.0                  0.0                             0.0   \n",
       "4                    0.0                  0.0                             0.0   \n",
       "\n",
       "   PercentFunded  Recommendations InvestmentFromFriendsCount  \\\n",
       "0            1.0                0                          0   \n",
       "1            1.0                0                          0   \n",
       "2            1.0                0                          0   \n",
       "3            1.0                0                          0   \n",
       "4            1.0                0                          0   \n",
       "\n",
       "  InvestmentFromFriendsAmount Investors  \n",
       "0                         0.0       258  \n",
       "1                         0.0         1  \n",
       "2                         0.0        41  \n",
       "3                         0.0       158  \n",
       "4                         0.0        20  \n",
       "\n",
       "[5 rows x 81 columns]"
      ]
     },
     "execution_count": 3,
     "metadata": {},
     "output_type": "execute_result"
    }
   ],
   "source": [
    "df = pd.read_csv(url)\n",
    "\n",
    "df.head()"
   ]
  },
  {
   "cell_type": "code",
   "execution_count": 4,
   "metadata": {
    "colab": {
     "base_uri": "https://localhost:8080/",
     "height": 0
    },
    "id": "FtzOkPHsXKXj",
    "outputId": "b3534508-0173-4f9a-a423-7ad5b7f83024"
   },
   "outputs": [
    {
     "name": "stdout",
     "output_type": "stream",
     "text": [
      "<class 'pandas.core.frame.DataFrame'>\n",
      "RangeIndex: 113937 entries, 0 to 113936\n",
      "Data columns (total 81 columns):\n",
      " #   Column                               Non-Null Count   Dtype  \n",
      "---  ------                               --------------   -----  \n",
      " 0   ListingKey                           113937 non-null  object \n",
      " 1   ListingNumber                        113937 non-null  int64  \n",
      " 2   ListingCreationDate                  113937 non-null  object \n",
      " 3   CreditGrade                          28953 non-null   object \n",
      " 4   Term                                 113937 non-null  int64  \n",
      " 5   LoanStatus                           113937 non-null  object \n",
      " 6   ClosedDate                           55089 non-null   object \n",
      " 7   BorrowerAPR                          113912 non-null  float64\n",
      " 8   BorrowerRate                         113937 non-null  float64\n",
      " 9   LenderYield                          113937 non-null  float64\n",
      " 10  EstimatedEffectiveYield              84853 non-null   float64\n",
      " 11  EstimatedLoss                        84853 non-null   float64\n",
      " 12  EstimatedReturn                      84853 non-null   float64\n",
      " 13  ProsperRating (numeric)              84853 non-null   float64\n",
      " 14  ProsperRating (Alpha)                84853 non-null   object \n",
      " 15  ProsperScore                         84853 non-null   float64\n",
      " 16  ListingCategory (numeric)            113937 non-null  int64  \n",
      " 17  BorrowerState                        108422 non-null  object \n",
      " 18  Occupation                           110349 non-null  object \n",
      " 19  EmploymentStatus                     111682 non-null  object \n",
      " 20  EmploymentStatusDuration             106312 non-null  float64\n",
      " 21  IsBorrowerHomeowner                  113937 non-null  bool   \n",
      " 22  CurrentlyInGroup                     113937 non-null  bool   \n",
      " 23  GroupKey                             13341 non-null   object \n",
      " 24  DateCreditPulled                     113937 non-null  object \n",
      " 25  CreditScoreRangeLower                113346 non-null  float64\n",
      " 26  CreditScoreRangeUpper                113346 non-null  float64\n",
      " 27  FirstRecordedCreditLine              113240 non-null  object \n",
      " 28  CurrentCreditLines                   106333 non-null  float64\n",
      " 29  OpenCreditLines                      106333 non-null  float64\n",
      " 30  TotalCreditLinespast7years           113240 non-null  float64\n",
      " 31  OpenRevolvingAccounts                113937 non-null  int64  \n",
      " 32  OpenRevolvingMonthlyPayment          113937 non-null  float64\n",
      " 33  InquiriesLast6Months                 113240 non-null  float64\n",
      " 34  TotalInquiries                       112778 non-null  float64\n",
      " 35  CurrentDelinquencies                 113240 non-null  float64\n",
      " 36  AmountDelinquent                     106315 non-null  float64\n",
      " 37  DelinquenciesLast7Years              112947 non-null  float64\n",
      " 38  PublicRecordsLast10Years             113240 non-null  float64\n",
      " 39  PublicRecordsLast12Months            106333 non-null  float64\n",
      " 40  RevolvingCreditBalance               106333 non-null  float64\n",
      " 41  BankcardUtilization                  106333 non-null  float64\n",
      " 42  AvailableBankcardCredit              106393 non-null  float64\n",
      " 43  TotalTrades                          106393 non-null  float64\n",
      " 44  TradesNeverDelinquent (percentage)   106393 non-null  float64\n",
      " 45  TradesOpenedLast6Months              106393 non-null  float64\n",
      " 46  DebtToIncomeRatio                    105383 non-null  float64\n",
      " 47  IncomeRange                          113937 non-null  object \n",
      " 48  IncomeVerifiable                     113937 non-null  bool   \n",
      " 49  StatedMonthlyIncome                  113937 non-null  float64\n",
      " 50  LoanKey                              113937 non-null  object \n",
      " 51  TotalProsperLoans                    22085 non-null   float64\n",
      " 52  TotalProsperPaymentsBilled           22085 non-null   float64\n",
      " 53  OnTimeProsperPayments                22085 non-null   float64\n",
      " 54  ProsperPaymentsLessThanOneMonthLate  22085 non-null   float64\n",
      " 55  ProsperPaymentsOneMonthPlusLate      22085 non-null   float64\n",
      " 56  ProsperPrincipalBorrowed             22085 non-null   float64\n",
      " 57  ProsperPrincipalOutstanding          22085 non-null   float64\n",
      " 58  ScorexChangeAtTimeOfListing          18928 non-null   float64\n",
      " 59  LoanCurrentDaysDelinquent            113937 non-null  int64  \n",
      " 60  LoanFirstDefaultedCycleNumber        16952 non-null   float64\n",
      " 61  LoanMonthsSinceOrigination           113937 non-null  int64  \n",
      " 62  LoanNumber                           113937 non-null  int64  \n",
      " 63  LoanOriginalAmount                   113937 non-null  int64  \n",
      " 64  LoanOriginationDate                  113937 non-null  object \n",
      " 65  LoanOriginationQuarter               113937 non-null  object \n",
      " 66  MemberKey                            113937 non-null  object \n",
      " 67  MonthlyLoanPayment                   113937 non-null  float64\n",
      " 68  LP_CustomerPayments                  113937 non-null  float64\n",
      " 69  LP_CustomerPrincipalPayments         113937 non-null  float64\n",
      " 70  LP_InterestandFees                   113937 non-null  float64\n",
      " 71  LP_ServiceFees                       113937 non-null  float64\n",
      " 72  LP_CollectionFees                    113937 non-null  float64\n",
      " 73  LP_GrossPrincipalLoss                113937 non-null  float64\n",
      " 74  LP_NetPrincipalLoss                  113937 non-null  float64\n",
      " 75  LP_NonPrincipalRecoverypayments      113937 non-null  float64\n",
      " 76  PercentFunded                        113937 non-null  float64\n",
      " 77  Recommendations                      113937 non-null  int64  \n",
      " 78  InvestmentFromFriendsCount           113937 non-null  int64  \n",
      " 79  InvestmentFromFriendsAmount          113937 non-null  float64\n",
      " 80  Investors                            113937 non-null  int64  \n",
      "dtypes: bool(3), float64(50), int64(11), object(17)\n",
      "memory usage: 68.1+ MB\n"
     ]
    }
   ],
   "source": [
    "df.info()"
   ]
  },
  {
   "cell_type": "code",
   "execution_count": 5,
   "metadata": {
    "colab": {
     "base_uri": "https://localhost:8080/",
     "height": 0
    },
    "id": "Yn4YPJ3_vuKF",
    "outputId": "3b5da836-7249-4297-b960-2bcfae43f454"
   },
   "outputs": [
    {
     "data": {
      "text/plain": [
       "ListingKey                         0\n",
       "ListingNumber                      0\n",
       "ListingCreationDate                0\n",
       "CreditGrade                    84984\n",
       "Term                               0\n",
       "                               ...  \n",
       "PercentFunded                      0\n",
       "Recommendations                    0\n",
       "InvestmentFromFriendsCount         0\n",
       "InvestmentFromFriendsAmount        0\n",
       "Investors                          0\n",
       "Length: 81, dtype: int64"
      ]
     },
     "execution_count": 5,
     "metadata": {},
     "output_type": "execute_result"
    }
   ],
   "source": [
    "df.isnull().sum()"
   ]
  },
  {
   "cell_type": "code",
   "execution_count": 6,
   "metadata": {
    "colab": {
     "base_uri": "https://localhost:8080/",
     "height": 0
    },
    "id": "74KdEbL-wDvp",
    "outputId": "917b70f9-fe59-4b55-fb14-3aead143807c"
   },
   "outputs": [
    {
     "data": {
      "text/plain": [
       "ListingKey                     False\n",
       "ListingNumber                  False\n",
       "ListingCreationDate            False\n",
       "CreditGrade                     True\n",
       "Term                           False\n",
       "                               ...  \n",
       "PercentFunded                  False\n",
       "Recommendations                False\n",
       "InvestmentFromFriendsCount     False\n",
       "InvestmentFromFriendsAmount    False\n",
       "Investors                      False\n",
       "Length: 81, dtype: bool"
      ]
     },
     "execution_count": 6,
     "metadata": {},
     "output_type": "execute_result"
    }
   ],
   "source": [
    "(df.isnull().sum() > 2000)"
   ]
  },
  {
   "cell_type": "code",
   "execution_count": 7,
   "metadata": {
    "colab": {
     "base_uri": "https://localhost:8080/",
     "height": 0
    },
    "id": "EPEbysQXwFxx",
    "outputId": "a1699e9a-b0f9-4b45-be5a-06677bec7215"
   },
   "outputs": [
    {
     "data": {
      "text/plain": [
       "(113937, 81)"
      ]
     },
     "execution_count": 7,
     "metadata": {},
     "output_type": "execute_result"
    }
   ],
   "source": [
    "df.shape"
   ]
  },
  {
   "cell_type": "code",
   "execution_count": 8,
   "metadata": {
    "id": "4erIoQx5l4HT"
   },
   "outputs": [],
   "source": [
    "nulls = (df.isnull().sum() > 2000)\n",
    "dfc = df.drop( nulls[nulls == True].index, axis=1 ) \n",
    "\n",
    "# nulls[nulls == True], nulls[nulls == False], dfc.head()"
   ]
  },
  {
   "cell_type": "code",
   "execution_count": 9,
   "metadata": {
    "colab": {
     "base_uri": "https://localhost:8080/",
     "height": 0
    },
    "id": "P9sbJ5m_qJob",
    "outputId": "1272d99e-4876-4004-9c69-32142fadad0e"
   },
   "outputs": [
    {
     "data": {
      "text/plain": [
       "(113937, 48)"
      ]
     },
     "execution_count": 9,
     "metadata": {},
     "output_type": "execute_result"
    }
   ],
   "source": [
    "dfc.shape"
   ]
  },
  {
   "cell_type": "code",
   "execution_count": 10,
   "metadata": {
    "colab": {
     "base_uri": "https://localhost:8080/",
     "height": 0
    },
    "id": "pkEqmMUfwVw5",
    "outputId": "0bdfc207-2f03-4bb6-9b88-d3810818e4e5"
   },
   "outputs": [
    {
     "name": "stdout",
     "output_type": "stream",
     "text": [
      "<class 'pandas.core.frame.DataFrame'>\n",
      "RangeIndex: 113937 entries, 0 to 113936\n",
      "Data columns (total 48 columns):\n",
      " #   Column                           Non-Null Count   Dtype  \n",
      "---  ------                           --------------   -----  \n",
      " 0   ListingKey                       113937 non-null  object \n",
      " 1   ListingNumber                    113937 non-null  int64  \n",
      " 2   ListingCreationDate              113937 non-null  object \n",
      " 3   Term                             113937 non-null  int64  \n",
      " 4   LoanStatus                       113937 non-null  object \n",
      " 5   BorrowerAPR                      113912 non-null  float64\n",
      " 6   BorrowerRate                     113937 non-null  float64\n",
      " 7   LenderYield                      113937 non-null  float64\n",
      " 8   ListingCategory (numeric)        113937 non-null  int64  \n",
      " 9   IsBorrowerHomeowner              113937 non-null  bool   \n",
      " 10  CurrentlyInGroup                 113937 non-null  bool   \n",
      " 11  DateCreditPulled                 113937 non-null  object \n",
      " 12  CreditScoreRangeLower            113346 non-null  float64\n",
      " 13  CreditScoreRangeUpper            113346 non-null  float64\n",
      " 14  FirstRecordedCreditLine          113240 non-null  object \n",
      " 15  TotalCreditLinespast7years       113240 non-null  float64\n",
      " 16  OpenRevolvingAccounts            113937 non-null  int64  \n",
      " 17  OpenRevolvingMonthlyPayment      113937 non-null  float64\n",
      " 18  InquiriesLast6Months             113240 non-null  float64\n",
      " 19  TotalInquiries                   112778 non-null  float64\n",
      " 20  CurrentDelinquencies             113240 non-null  float64\n",
      " 21  DelinquenciesLast7Years          112947 non-null  float64\n",
      " 22  PublicRecordsLast10Years         113240 non-null  float64\n",
      " 23  IncomeRange                      113937 non-null  object \n",
      " 24  IncomeVerifiable                 113937 non-null  bool   \n",
      " 25  StatedMonthlyIncome              113937 non-null  float64\n",
      " 26  LoanKey                          113937 non-null  object \n",
      " 27  LoanCurrentDaysDelinquent        113937 non-null  int64  \n",
      " 28  LoanMonthsSinceOrigination       113937 non-null  int64  \n",
      " 29  LoanNumber                       113937 non-null  int64  \n",
      " 30  LoanOriginalAmount               113937 non-null  int64  \n",
      " 31  LoanOriginationDate              113937 non-null  object \n",
      " 32  LoanOriginationQuarter           113937 non-null  object \n",
      " 33  MemberKey                        113937 non-null  object \n",
      " 34  MonthlyLoanPayment               113937 non-null  float64\n",
      " 35  LP_CustomerPayments              113937 non-null  float64\n",
      " 36  LP_CustomerPrincipalPayments     113937 non-null  float64\n",
      " 37  LP_InterestandFees               113937 non-null  float64\n",
      " 38  LP_ServiceFees                   113937 non-null  float64\n",
      " 39  LP_CollectionFees                113937 non-null  float64\n",
      " 40  LP_GrossPrincipalLoss            113937 non-null  float64\n",
      " 41  LP_NetPrincipalLoss              113937 non-null  float64\n",
      " 42  LP_NonPrincipalRecoverypayments  113937 non-null  float64\n",
      " 43  PercentFunded                    113937 non-null  float64\n",
      " 44  Recommendations                  113937 non-null  int64  \n",
      " 45  InvestmentFromFriendsCount       113937 non-null  int64  \n",
      " 46  InvestmentFromFriendsAmount      113937 non-null  float64\n",
      " 47  Investors                        113937 non-null  int64  \n",
      "dtypes: bool(3), float64(24), int64(11), object(10)\n",
      "memory usage: 39.4+ MB\n"
     ]
    }
   ],
   "source": [
    "dfc.info()"
   ]
  },
  {
   "cell_type": "code",
   "execution_count": 11,
   "metadata": {
    "colab": {
     "base_uri": "https://localhost:8080/",
     "height": 0
    },
    "id": "Rv1H9GZcw19L",
    "outputId": "e35d91e7-8b60-4bba-e3f9-9558624bf879"
   },
   "outputs": [
    {
     "data": {
      "text/plain": [
       "871"
      ]
     },
     "execution_count": 11,
     "metadata": {},
     "output_type": "execute_result"
    }
   ],
   "source": [
    "dfc.duplicated().sum()"
   ]
  },
  {
   "cell_type": "code",
   "execution_count": 12,
   "metadata": {
    "colab": {
     "base_uri": "https://localhost:8080/",
     "height": 0
    },
    "id": "5ihjSRhxxBKx",
    "outputId": "724ea8ff-281b-4004-dd13-d2ce42ac67a9"
   },
   "outputs": [
    {
     "data": {
      "text/plain": [
       "0"
      ]
     },
     "execution_count": 12,
     "metadata": {},
     "output_type": "execute_result"
    }
   ],
   "source": [
    "dfc.drop_duplicates(inplace=True)\n",
    "dfc.duplicated().sum()"
   ]
  },
  {
   "cell_type": "markdown",
   "metadata": {
    "id": "juDId9-PxY-t"
   },
   "source": [
    "I have a feelin that there are columns that are copies of other columns"
   ]
  },
  {
   "cell_type": "code",
   "execution_count": 13,
   "metadata": {
    "colab": {
     "base_uri": "https://localhost:8080/",
     "height": 0
    },
    "id": "xHSUiZFcxVZU",
    "outputId": "3a106060-5be0-4cb8-e53b-91ab63b59ae1"
   },
   "outputs": [
    {
     "name": "stdout",
     "output_type": "stream",
     "text": [
      "columns seem suplicates [('CreditScoreRangeLower', 'CreditScoreRangeUpper'), ('CreditScoreRangeUpper', 'CreditScoreRangeLower')]\n"
     ]
    }
   ],
   "source": [
    "corr = dfc.corr()\n",
    "corr_keys = corr.keys()\n",
    "duplicated_columns = []\n",
    "for c1 in dfc.columns:\n",
    "  for c2 in dfc.columns:\n",
    "\n",
    "    if c1 in corr_keys and c2 in corr_keys and c1 != c2 and corr[c1][c2] == 1:\n",
    "      duplicated_columns.append((c1,c2,))  \n",
    "\n",
    "print(f'columns seem suplicates {duplicated_columns}')"
   ]
  },
  {
   "cell_type": "code",
   "execution_count": 14,
   "metadata": {
    "colab": {
     "base_uri": "https://localhost:8080/",
     "height": 357
    },
    "id": "QUUpR3kP0xbH",
    "outputId": "d6eede5a-43fa-43fd-e042-30c302a15e0a"
   },
   "outputs": [
    {
     "data": {
      "text/html": [
       "<div>\n",
       "<style scoped>\n",
       "    .dataframe tbody tr th:only-of-type {\n",
       "        vertical-align: middle;\n",
       "    }\n",
       "\n",
       "    .dataframe tbody tr th {\n",
       "        vertical-align: top;\n",
       "    }\n",
       "\n",
       "    .dataframe thead th {\n",
       "        text-align: right;\n",
       "    }\n",
       "</style>\n",
       "<table border=\"1\" class=\"dataframe\">\n",
       "  <thead>\n",
       "    <tr style=\"text-align: right;\">\n",
       "      <th></th>\n",
       "      <th>ListingKey</th>\n",
       "      <th>ListingNumber</th>\n",
       "      <th>ListingCreationDate</th>\n",
       "      <th>Term</th>\n",
       "      <th>LoanStatus</th>\n",
       "      <th>BorrowerAPR</th>\n",
       "      <th>BorrowerRate</th>\n",
       "      <th>LenderYield</th>\n",
       "      <th>ListingCategory (numeric)</th>\n",
       "      <th>IsBorrowerHomeowner</th>\n",
       "      <th>...</th>\n",
       "      <th>LP_ServiceFees</th>\n",
       "      <th>LP_CollectionFees</th>\n",
       "      <th>LP_GrossPrincipalLoss</th>\n",
       "      <th>LP_NetPrincipalLoss</th>\n",
       "      <th>LP_NonPrincipalRecoverypayments</th>\n",
       "      <th>PercentFunded</th>\n",
       "      <th>Recommendations</th>\n",
       "      <th>InvestmentFromFriendsCount</th>\n",
       "      <th>InvestmentFromFriendsAmount</th>\n",
       "      <th>Investors</th>\n",
       "    </tr>\n",
       "  </thead>\n",
       "  <tbody>\n",
       "    <tr>\n",
       "      <th>0</th>\n",
       "      <td>1021339766868145413AB3B</td>\n",
       "      <td>193129</td>\n",
       "      <td>2007-08-26 19:09:29.263000000</td>\n",
       "      <td>36</td>\n",
       "      <td>Completed</td>\n",
       "      <td>0.16516</td>\n",
       "      <td>0.1580</td>\n",
       "      <td>0.1380</td>\n",
       "      <td>0</td>\n",
       "      <td>True</td>\n",
       "      <td>...</td>\n",
       "      <td>-133.18</td>\n",
       "      <td>0.0</td>\n",
       "      <td>0.0</td>\n",
       "      <td>0.0</td>\n",
       "      <td>0.0</td>\n",
       "      <td>1.0</td>\n",
       "      <td>0</td>\n",
       "      <td>0</td>\n",
       "      <td>0.0</td>\n",
       "      <td>258</td>\n",
       "    </tr>\n",
       "    <tr>\n",
       "      <th>1</th>\n",
       "      <td>10273602499503308B223C1</td>\n",
       "      <td>1209647</td>\n",
       "      <td>2014-02-27 08:28:07.900000000</td>\n",
       "      <td>36</td>\n",
       "      <td>Current</td>\n",
       "      <td>0.12016</td>\n",
       "      <td>0.0920</td>\n",
       "      <td>0.0820</td>\n",
       "      <td>2</td>\n",
       "      <td>False</td>\n",
       "      <td>...</td>\n",
       "      <td>0.00</td>\n",
       "      <td>0.0</td>\n",
       "      <td>0.0</td>\n",
       "      <td>0.0</td>\n",
       "      <td>0.0</td>\n",
       "      <td>1.0</td>\n",
       "      <td>0</td>\n",
       "      <td>0</td>\n",
       "      <td>0.0</td>\n",
       "      <td>1</td>\n",
       "    </tr>\n",
       "    <tr>\n",
       "      <th>2</th>\n",
       "      <td>0EE9337825851032864889A</td>\n",
       "      <td>81716</td>\n",
       "      <td>2007-01-05 15:00:47.090000000</td>\n",
       "      <td>36</td>\n",
       "      <td>Completed</td>\n",
       "      <td>0.28269</td>\n",
       "      <td>0.2750</td>\n",
       "      <td>0.2400</td>\n",
       "      <td>0</td>\n",
       "      <td>False</td>\n",
       "      <td>...</td>\n",
       "      <td>-24.20</td>\n",
       "      <td>0.0</td>\n",
       "      <td>0.0</td>\n",
       "      <td>0.0</td>\n",
       "      <td>0.0</td>\n",
       "      <td>1.0</td>\n",
       "      <td>0</td>\n",
       "      <td>0</td>\n",
       "      <td>0.0</td>\n",
       "      <td>41</td>\n",
       "    </tr>\n",
       "    <tr>\n",
       "      <th>3</th>\n",
       "      <td>0EF5356002482715299901A</td>\n",
       "      <td>658116</td>\n",
       "      <td>2012-10-22 11:02:35.010000000</td>\n",
       "      <td>36</td>\n",
       "      <td>Current</td>\n",
       "      <td>0.12528</td>\n",
       "      <td>0.0974</td>\n",
       "      <td>0.0874</td>\n",
       "      <td>16</td>\n",
       "      <td>True</td>\n",
       "      <td>...</td>\n",
       "      <td>-108.01</td>\n",
       "      <td>0.0</td>\n",
       "      <td>0.0</td>\n",
       "      <td>0.0</td>\n",
       "      <td>0.0</td>\n",
       "      <td>1.0</td>\n",
       "      <td>0</td>\n",
       "      <td>0</td>\n",
       "      <td>0.0</td>\n",
       "      <td>158</td>\n",
       "    </tr>\n",
       "    <tr>\n",
       "      <th>4</th>\n",
       "      <td>0F023589499656230C5E3E2</td>\n",
       "      <td>909464</td>\n",
       "      <td>2013-09-14 18:38:39.097000000</td>\n",
       "      <td>36</td>\n",
       "      <td>Current</td>\n",
       "      <td>0.24614</td>\n",
       "      <td>0.2085</td>\n",
       "      <td>0.1985</td>\n",
       "      <td>2</td>\n",
       "      <td>True</td>\n",
       "      <td>...</td>\n",
       "      <td>-60.27</td>\n",
       "      <td>0.0</td>\n",
       "      <td>0.0</td>\n",
       "      <td>0.0</td>\n",
       "      <td>0.0</td>\n",
       "      <td>1.0</td>\n",
       "      <td>0</td>\n",
       "      <td>0</td>\n",
       "      <td>0.0</td>\n",
       "      <td>20</td>\n",
       "    </tr>\n",
       "  </tbody>\n",
       "</table>\n",
       "<p>5 rows × 48 columns</p>\n",
       "</div>"
      ],
      "text/plain": [
       "                ListingKey  ListingNumber            ListingCreationDate  \\\n",
       "0  1021339766868145413AB3B         193129  2007-08-26 19:09:29.263000000   \n",
       "1  10273602499503308B223C1        1209647  2014-02-27 08:28:07.900000000   \n",
       "2  0EE9337825851032864889A          81716  2007-01-05 15:00:47.090000000   \n",
       "3  0EF5356002482715299901A         658116  2012-10-22 11:02:35.010000000   \n",
       "4  0F023589499656230C5E3E2         909464  2013-09-14 18:38:39.097000000   \n",
       "\n",
       "   Term LoanStatus  BorrowerAPR  BorrowerRate  LenderYield  \\\n",
       "0    36  Completed      0.16516        0.1580       0.1380   \n",
       "1    36    Current      0.12016        0.0920       0.0820   \n",
       "2    36  Completed      0.28269        0.2750       0.2400   \n",
       "3    36    Current      0.12528        0.0974       0.0874   \n",
       "4    36    Current      0.24614        0.2085       0.1985   \n",
       "\n",
       "   ListingCategory (numeric)  IsBorrowerHomeowner  ...  LP_ServiceFees  \\\n",
       "0                          0                 True  ...         -133.18   \n",
       "1                          2                False  ...            0.00   \n",
       "2                          0                False  ...          -24.20   \n",
       "3                         16                 True  ...         -108.01   \n",
       "4                          2                 True  ...          -60.27   \n",
       "\n",
       "  LP_CollectionFees  LP_GrossPrincipalLoss  LP_NetPrincipalLoss  \\\n",
       "0               0.0                    0.0                  0.0   \n",
       "1               0.0                    0.0                  0.0   \n",
       "2               0.0                    0.0                  0.0   \n",
       "3               0.0                    0.0                  0.0   \n",
       "4               0.0                    0.0                  0.0   \n",
       "\n",
       "  LP_NonPrincipalRecoverypayments  PercentFunded  Recommendations  \\\n",
       "0                             0.0            1.0                0   \n",
       "1                             0.0            1.0                0   \n",
       "2                             0.0            1.0                0   \n",
       "3                             0.0            1.0                0   \n",
       "4                             0.0            1.0                0   \n",
       "\n",
       "   InvestmentFromFriendsCount  InvestmentFromFriendsAmount  Investors  \n",
       "0                           0                          0.0        258  \n",
       "1                           0                          0.0          1  \n",
       "2                           0                          0.0         41  \n",
       "3                           0                          0.0        158  \n",
       "4                           0                          0.0         20  \n",
       "\n",
       "[5 rows x 48 columns]"
      ]
     },
     "execution_count": 14,
     "metadata": {},
     "output_type": "execute_result"
    }
   ],
   "source": [
    "dfc.head()"
   ]
  },
  {
   "cell_type": "code",
   "execution_count": null,
   "metadata": {
    "id": "YmnRM_T4zDxM"
   },
   "outputs": [],
   "source": []
  },
  {
   "cell_type": "code",
   "execution_count": 15,
   "metadata": {
    "colab": {
     "base_uri": "https://localhost:8080/",
     "height": 0
    },
    "id": "7uK1CBlOz6kV",
    "outputId": "ccdb6606-0700-498f-ef6e-12dc731b1800"
   },
   "outputs": [
    {
     "data": {
      "text/plain": [
       "True"
      ]
     },
     "execution_count": 15,
     "metadata": {},
     "output_type": "execute_result"
    }
   ],
   "source": [
    "u_sum = len(dfc.LoanKey.unique())\n",
    "\n",
    "u_sum == dfc.shape[0]\n"
   ]
  },
  {
   "cell_type": "code",
   "execution_count": 16,
   "metadata": {
    "id": "AZzxUD5I15N5"
   },
   "outputs": [],
   "source": [
    "dfc.drop(columns=['LoanKey', 'MemberKey', 'LoanNumber', 'ListingCreationDate', 'ListingNumber', 'ListingKey'], inplace=True)"
   ]
  },
  {
   "cell_type": "code",
   "execution_count": 17,
   "metadata": {
    "colab": {
     "base_uri": "https://localhost:8080/",
     "height": 0
    },
    "id": "lMUs9VkfnvPG",
    "outputId": "829d9570-4db1-44dd-f39a-2ee90591c396"
   },
   "outputs": [
    {
     "name": "stdout",
     "output_type": "stream",
     "text": [
      "<class 'pandas.core.frame.DataFrame'>\n",
      "Int64Index: 113066 entries, 0 to 113936\n",
      "Data columns (total 42 columns):\n",
      " #   Column                           Non-Null Count   Dtype  \n",
      "---  ------                           --------------   -----  \n",
      " 0   Term                             113066 non-null  int64  \n",
      " 1   LoanStatus                       113066 non-null  object \n",
      " 2   BorrowerAPR                      113041 non-null  float64\n",
      " 3   BorrowerRate                     113066 non-null  float64\n",
      " 4   LenderYield                      113066 non-null  float64\n",
      " 5   ListingCategory (numeric)        113066 non-null  int64  \n",
      " 6   IsBorrowerHomeowner              113066 non-null  bool   \n",
      " 7   CurrentlyInGroup                 113066 non-null  bool   \n",
      " 8   DateCreditPulled                 113066 non-null  object \n",
      " 9   CreditScoreRangeLower            112475 non-null  float64\n",
      " 10  CreditScoreRangeUpper            112475 non-null  float64\n",
      " 11  FirstRecordedCreditLine          112369 non-null  object \n",
      " 12  TotalCreditLinespast7years       112369 non-null  float64\n",
      " 13  OpenRevolvingAccounts            113066 non-null  int64  \n",
      " 14  OpenRevolvingMonthlyPayment      113066 non-null  float64\n",
      " 15  InquiriesLast6Months             112369 non-null  float64\n",
      " 16  TotalInquiries                   111907 non-null  float64\n",
      " 17  CurrentDelinquencies             112369 non-null  float64\n",
      " 18  DelinquenciesLast7Years          112076 non-null  float64\n",
      " 19  PublicRecordsLast10Years         112369 non-null  float64\n",
      " 20  IncomeRange                      113066 non-null  object \n",
      " 21  IncomeVerifiable                 113066 non-null  bool   \n",
      " 22  StatedMonthlyIncome              113066 non-null  float64\n",
      " 23  LoanCurrentDaysDelinquent        113066 non-null  int64  \n",
      " 24  LoanMonthsSinceOrigination       113066 non-null  int64  \n",
      " 25  LoanOriginalAmount               113066 non-null  int64  \n",
      " 26  LoanOriginationDate              113066 non-null  object \n",
      " 27  LoanOriginationQuarter           113066 non-null  object \n",
      " 28  MonthlyLoanPayment               113066 non-null  float64\n",
      " 29  LP_CustomerPayments              113066 non-null  float64\n",
      " 30  LP_CustomerPrincipalPayments     113066 non-null  float64\n",
      " 31  LP_InterestandFees               113066 non-null  float64\n",
      " 32  LP_ServiceFees                   113066 non-null  float64\n",
      " 33  LP_CollectionFees                113066 non-null  float64\n",
      " 34  LP_GrossPrincipalLoss            113066 non-null  float64\n",
      " 35  LP_NetPrincipalLoss              113066 non-null  float64\n",
      " 36  LP_NonPrincipalRecoverypayments  113066 non-null  float64\n",
      " 37  PercentFunded                    113066 non-null  float64\n",
      " 38  Recommendations                  113066 non-null  int64  \n",
      " 39  InvestmentFromFriendsCount       113066 non-null  int64  \n",
      " 40  InvestmentFromFriendsAmount      113066 non-null  float64\n",
      " 41  Investors                        113066 non-null  int64  \n",
      "dtypes: bool(3), float64(24), int64(9), object(6)\n",
      "memory usage: 34.8+ MB\n"
     ]
    }
   ],
   "source": [
    "dfc.info()"
   ]
  },
  {
   "cell_type": "code",
   "execution_count": 18,
   "metadata": {
    "id": "2P2-weUG1Y98"
   },
   "outputs": [],
   "source": [
    "loan_status = pd.get_dummies( dfc.LoanStatus)\n",
    "dfc[loan_status.columns] = loan_status"
   ]
  },
  {
   "cell_type": "code",
   "execution_count": 19,
   "metadata": {
    "colab": {
     "base_uri": "https://localhost:8080/",
     "height": 285
    },
    "id": "IUr68Ojv2jtU",
    "outputId": "275b770c-1a20-4791-c727-bafbefa8231d"
   },
   "outputs": [
    {
     "data": {
      "text/html": [
       "<div>\n",
       "<style scoped>\n",
       "    .dataframe tbody tr th:only-of-type {\n",
       "        vertical-align: middle;\n",
       "    }\n",
       "\n",
       "    .dataframe tbody tr th {\n",
       "        vertical-align: top;\n",
       "    }\n",
       "\n",
       "    .dataframe thead th {\n",
       "        text-align: right;\n",
       "    }\n",
       "</style>\n",
       "<table border=\"1\" class=\"dataframe\">\n",
       "  <thead>\n",
       "    <tr style=\"text-align: right;\">\n",
       "      <th></th>\n",
       "      <th>Cancelled</th>\n",
       "      <th>Chargedoff</th>\n",
       "      <th>Completed</th>\n",
       "      <th>Current</th>\n",
       "      <th>Defaulted</th>\n",
       "      <th>FinalPaymentInProgress</th>\n",
       "      <th>Past Due (1-15 days)</th>\n",
       "      <th>Past Due (16-30 days)</th>\n",
       "      <th>Past Due (31-60 days)</th>\n",
       "      <th>Past Due (61-90 days)</th>\n",
       "      <th>Past Due (91-120 days)</th>\n",
       "      <th>Past Due (&gt;120 days)</th>\n",
       "    </tr>\n",
       "  </thead>\n",
       "  <tbody>\n",
       "    <tr>\n",
       "      <th>0</th>\n",
       "      <td>0</td>\n",
       "      <td>0</td>\n",
       "      <td>1</td>\n",
       "      <td>0</td>\n",
       "      <td>0</td>\n",
       "      <td>0</td>\n",
       "      <td>0</td>\n",
       "      <td>0</td>\n",
       "      <td>0</td>\n",
       "      <td>0</td>\n",
       "      <td>0</td>\n",
       "      <td>0</td>\n",
       "    </tr>\n",
       "    <tr>\n",
       "      <th>1</th>\n",
       "      <td>0</td>\n",
       "      <td>0</td>\n",
       "      <td>0</td>\n",
       "      <td>1</td>\n",
       "      <td>0</td>\n",
       "      <td>0</td>\n",
       "      <td>0</td>\n",
       "      <td>0</td>\n",
       "      <td>0</td>\n",
       "      <td>0</td>\n",
       "      <td>0</td>\n",
       "      <td>0</td>\n",
       "    </tr>\n",
       "    <tr>\n",
       "      <th>2</th>\n",
       "      <td>0</td>\n",
       "      <td>0</td>\n",
       "      <td>1</td>\n",
       "      <td>0</td>\n",
       "      <td>0</td>\n",
       "      <td>0</td>\n",
       "      <td>0</td>\n",
       "      <td>0</td>\n",
       "      <td>0</td>\n",
       "      <td>0</td>\n",
       "      <td>0</td>\n",
       "      <td>0</td>\n",
       "    </tr>\n",
       "    <tr>\n",
       "      <th>3</th>\n",
       "      <td>0</td>\n",
       "      <td>0</td>\n",
       "      <td>0</td>\n",
       "      <td>1</td>\n",
       "      <td>0</td>\n",
       "      <td>0</td>\n",
       "      <td>0</td>\n",
       "      <td>0</td>\n",
       "      <td>0</td>\n",
       "      <td>0</td>\n",
       "      <td>0</td>\n",
       "      <td>0</td>\n",
       "    </tr>\n",
       "    <tr>\n",
       "      <th>4</th>\n",
       "      <td>0</td>\n",
       "      <td>0</td>\n",
       "      <td>0</td>\n",
       "      <td>1</td>\n",
       "      <td>0</td>\n",
       "      <td>0</td>\n",
       "      <td>0</td>\n",
       "      <td>0</td>\n",
       "      <td>0</td>\n",
       "      <td>0</td>\n",
       "      <td>0</td>\n",
       "      <td>0</td>\n",
       "    </tr>\n",
       "  </tbody>\n",
       "</table>\n",
       "</div>"
      ],
      "text/plain": [
       "   Cancelled  Chargedoff  Completed  Current  Defaulted  \\\n",
       "0          0           0          1        0          0   \n",
       "1          0           0          0        1          0   \n",
       "2          0           0          1        0          0   \n",
       "3          0           0          0        1          0   \n",
       "4          0           0          0        1          0   \n",
       "\n",
       "   FinalPaymentInProgress  Past Due (1-15 days)  Past Due (16-30 days)  \\\n",
       "0                       0                     0                      0   \n",
       "1                       0                     0                      0   \n",
       "2                       0                     0                      0   \n",
       "3                       0                     0                      0   \n",
       "4                       0                     0                      0   \n",
       "\n",
       "   Past Due (31-60 days)  Past Due (61-90 days)  Past Due (91-120 days)  \\\n",
       "0                      0                      0                       0   \n",
       "1                      0                      0                       0   \n",
       "2                      0                      0                       0   \n",
       "3                      0                      0                       0   \n",
       "4                      0                      0                       0   \n",
       "\n",
       "   Past Due (>120 days)  \n",
       "0                     0  \n",
       "1                     0  \n",
       "2                     0  \n",
       "3                     0  \n",
       "4                     0  "
      ]
     },
     "execution_count": 19,
     "metadata": {},
     "output_type": "execute_result"
    }
   ],
   "source": [
    "loan_status.head()"
   ]
  },
  {
   "cell_type": "code",
   "execution_count": 20,
   "metadata": {
    "colab": {
     "base_uri": "https://localhost:8080/",
     "height": 0
    },
    "id": "UBhdI0JsoGz4",
    "outputId": "4edf94c1-26cc-438e-fa33-8b6c5108326d"
   },
   "outputs": [
    {
     "name": "stdout",
     "output_type": "stream",
     "text": [
      "columns related ('BorrowerAPR', 'BorrowerRate', 0.9898166640352847)\n",
      "columns related ('BorrowerAPR', 'LenderYield', 0.9893194067320616)\n",
      "columns related ('BorrowerRate', 'BorrowerAPR', 0.9898166640352847)\n",
      "columns related ('BorrowerRate', 'LenderYield', 0.9992073582842463)\n",
      "columns related ('LenderYield', 'BorrowerAPR', 0.9893194067320616)\n",
      "columns related ('LenderYield', 'BorrowerRate', 0.9992073582842463)\n",
      "columns related ('LoanCurrentDaysDelinquent', 'Chargedoff', 0.8111961809162036)\n",
      "columns related ('LoanOriginalAmount', 'MonthlyLoanPayment', 0.931856487514736)\n",
      "columns related ('MonthlyLoanPayment', 'LoanOriginalAmount', 0.931856487514736)\n",
      "columns related ('LP_CustomerPayments', 'LP_CustomerPrincipalPayments', 0.9773696675632677)\n",
      "columns related ('LP_CustomerPrincipalPayments', 'LP_CustomerPayments', 0.9773696675632677)\n",
      "columns related ('LP_GrossPrincipalLoss', 'LP_NetPrincipalLoss', 0.9928166223496594)\n",
      "columns related ('LP_NetPrincipalLoss', 'LP_GrossPrincipalLoss', 0.9928166223496594)\n",
      "columns related ('Chargedoff', 'LoanCurrentDaysDelinquent', 0.8111961809162036)\n",
      "\n"
     ]
    }
   ],
   "source": [
    "corr = dfc.corr()\n",
    "corr_keys = corr.keys()\n",
    "related = []\n",
    "for c1 in dfc.columns:\n",
    "  for c2 in dfc.columns:\n",
    "\n",
    "    if c1 in corr_keys and c2 in corr_keys and c1 != c2 and corr[c1][c2] > 0.8 and corr[c1][c2] != 1:\n",
    "      related.append((c1,c2, corr[c1][c2]))  \n",
    "\n",
    "for r in related:\n",
    "  print(f'columns related {r}')\n",
    "# print (corr['Cancelled'])\n",
    "# print (corr['Completed'])\n",
    "# print (corr['Defaulted'])\n",
    "# print (corr['Chargedoff'])\n",
    "# print (corr['Current'])\n",
    "# print (corr['FinalPaymentInProgress'])\n",
    "# print (corr['Past Due (1-15 days)'])\n",
    "# print (corr['Past Due (16-30 days)'])\n",
    "# print (corr['Past Due (31-60 days)'])\n",
    "# print (corr['Past Due (61-90 days)'])\n",
    "# print (corr['Past Due (91-120 days)'])\n",
    "# print (corr['Past Due (>120 days)'])\n",
    "print(\"\")"
   ]
  },
  {
   "cell_type": "code",
   "execution_count": 21,
   "metadata": {
    "colab": {
     "base_uri": "https://localhost:8080/",
     "height": 661
    },
    "id": "hN7gyvfwn1Lc",
    "outputId": "4586052b-5df2-4d8d-a64d-690ecd229e61"
   },
   "outputs": [
    {
     "data": {
      "text/html": [
       "<div>\n",
       "<style scoped>\n",
       "    .dataframe tbody tr th:only-of-type {\n",
       "        vertical-align: middle;\n",
       "    }\n",
       "\n",
       "    .dataframe tbody tr th {\n",
       "        vertical-align: top;\n",
       "    }\n",
       "\n",
       "    .dataframe thead th {\n",
       "        text-align: right;\n",
       "    }\n",
       "</style>\n",
       "<table border=\"1\" class=\"dataframe\">\n",
       "  <thead>\n",
       "    <tr style=\"text-align: right;\">\n",
       "      <th></th>\n",
       "      <th>Term</th>\n",
       "      <th>LoanStatus</th>\n",
       "      <th>BorrowerAPR</th>\n",
       "      <th>BorrowerRate</th>\n",
       "      <th>LenderYield</th>\n",
       "      <th>ListingCategory (numeric)</th>\n",
       "      <th>IsBorrowerHomeowner</th>\n",
       "      <th>CurrentlyInGroup</th>\n",
       "      <th>DateCreditPulled</th>\n",
       "      <th>CreditScoreRangeLower</th>\n",
       "      <th>...</th>\n",
       "      <th>Completed</th>\n",
       "      <th>Current</th>\n",
       "      <th>Defaulted</th>\n",
       "      <th>FinalPaymentInProgress</th>\n",
       "      <th>Past Due (1-15 days)</th>\n",
       "      <th>Past Due (16-30 days)</th>\n",
       "      <th>Past Due (31-60 days)</th>\n",
       "      <th>Past Due (61-90 days)</th>\n",
       "      <th>Past Due (91-120 days)</th>\n",
       "      <th>Past Due (&gt;120 days)</th>\n",
       "    </tr>\n",
       "  </thead>\n",
       "  <tbody>\n",
       "    <tr>\n",
       "      <th>0</th>\n",
       "      <td>36</td>\n",
       "      <td>Completed</td>\n",
       "      <td>0.16516</td>\n",
       "      <td>0.1580</td>\n",
       "      <td>0.1380</td>\n",
       "      <td>0</td>\n",
       "      <td>True</td>\n",
       "      <td>True</td>\n",
       "      <td>2007-08-26 18:41:46.780000000</td>\n",
       "      <td>640.0</td>\n",
       "      <td>...</td>\n",
       "      <td>1</td>\n",
       "      <td>0</td>\n",
       "      <td>0</td>\n",
       "      <td>0</td>\n",
       "      <td>0</td>\n",
       "      <td>0</td>\n",
       "      <td>0</td>\n",
       "      <td>0</td>\n",
       "      <td>0</td>\n",
       "      <td>0</td>\n",
       "    </tr>\n",
       "    <tr>\n",
       "      <th>1</th>\n",
       "      <td>36</td>\n",
       "      <td>Current</td>\n",
       "      <td>0.12016</td>\n",
       "      <td>0.0920</td>\n",
       "      <td>0.0820</td>\n",
       "      <td>2</td>\n",
       "      <td>False</td>\n",
       "      <td>False</td>\n",
       "      <td>2014-02-27 08:28:14</td>\n",
       "      <td>680.0</td>\n",
       "      <td>...</td>\n",
       "      <td>0</td>\n",
       "      <td>1</td>\n",
       "      <td>0</td>\n",
       "      <td>0</td>\n",
       "      <td>0</td>\n",
       "      <td>0</td>\n",
       "      <td>0</td>\n",
       "      <td>0</td>\n",
       "      <td>0</td>\n",
       "      <td>0</td>\n",
       "    </tr>\n",
       "    <tr>\n",
       "      <th>2</th>\n",
       "      <td>36</td>\n",
       "      <td>Completed</td>\n",
       "      <td>0.28269</td>\n",
       "      <td>0.2750</td>\n",
       "      <td>0.2400</td>\n",
       "      <td>0</td>\n",
       "      <td>False</td>\n",
       "      <td>True</td>\n",
       "      <td>2007-01-02 14:09:10.060000000</td>\n",
       "      <td>480.0</td>\n",
       "      <td>...</td>\n",
       "      <td>1</td>\n",
       "      <td>0</td>\n",
       "      <td>0</td>\n",
       "      <td>0</td>\n",
       "      <td>0</td>\n",
       "      <td>0</td>\n",
       "      <td>0</td>\n",
       "      <td>0</td>\n",
       "      <td>0</td>\n",
       "      <td>0</td>\n",
       "    </tr>\n",
       "    <tr>\n",
       "      <th>3</th>\n",
       "      <td>36</td>\n",
       "      <td>Current</td>\n",
       "      <td>0.12528</td>\n",
       "      <td>0.0974</td>\n",
       "      <td>0.0874</td>\n",
       "      <td>16</td>\n",
       "      <td>True</td>\n",
       "      <td>False</td>\n",
       "      <td>2012-10-22 11:02:32</td>\n",
       "      <td>800.0</td>\n",
       "      <td>...</td>\n",
       "      <td>0</td>\n",
       "      <td>1</td>\n",
       "      <td>0</td>\n",
       "      <td>0</td>\n",
       "      <td>0</td>\n",
       "      <td>0</td>\n",
       "      <td>0</td>\n",
       "      <td>0</td>\n",
       "      <td>0</td>\n",
       "      <td>0</td>\n",
       "    </tr>\n",
       "    <tr>\n",
       "      <th>4</th>\n",
       "      <td>36</td>\n",
       "      <td>Current</td>\n",
       "      <td>0.24614</td>\n",
       "      <td>0.2085</td>\n",
       "      <td>0.1985</td>\n",
       "      <td>2</td>\n",
       "      <td>True</td>\n",
       "      <td>False</td>\n",
       "      <td>2013-09-14 18:38:44</td>\n",
       "      <td>680.0</td>\n",
       "      <td>...</td>\n",
       "      <td>0</td>\n",
       "      <td>1</td>\n",
       "      <td>0</td>\n",
       "      <td>0</td>\n",
       "      <td>0</td>\n",
       "      <td>0</td>\n",
       "      <td>0</td>\n",
       "      <td>0</td>\n",
       "      <td>0</td>\n",
       "      <td>0</td>\n",
       "    </tr>\n",
       "    <tr>\n",
       "      <th>5</th>\n",
       "      <td>60</td>\n",
       "      <td>Current</td>\n",
       "      <td>0.15425</td>\n",
       "      <td>0.1314</td>\n",
       "      <td>0.1214</td>\n",
       "      <td>1</td>\n",
       "      <td>True</td>\n",
       "      <td>False</td>\n",
       "      <td>2013-12-14 08:26:40</td>\n",
       "      <td>740.0</td>\n",
       "      <td>...</td>\n",
       "      <td>0</td>\n",
       "      <td>1</td>\n",
       "      <td>0</td>\n",
       "      <td>0</td>\n",
       "      <td>0</td>\n",
       "      <td>0</td>\n",
       "      <td>0</td>\n",
       "      <td>0</td>\n",
       "      <td>0</td>\n",
       "      <td>0</td>\n",
       "    </tr>\n",
       "    <tr>\n",
       "      <th>6</th>\n",
       "      <td>36</td>\n",
       "      <td>Current</td>\n",
       "      <td>0.31032</td>\n",
       "      <td>0.2712</td>\n",
       "      <td>0.2612</td>\n",
       "      <td>1</td>\n",
       "      <td>False</td>\n",
       "      <td>False</td>\n",
       "      <td>2013-04-12 09:52:53</td>\n",
       "      <td>680.0</td>\n",
       "      <td>...</td>\n",
       "      <td>0</td>\n",
       "      <td>1</td>\n",
       "      <td>0</td>\n",
       "      <td>0</td>\n",
       "      <td>0</td>\n",
       "      <td>0</td>\n",
       "      <td>0</td>\n",
       "      <td>0</td>\n",
       "      <td>0</td>\n",
       "      <td>0</td>\n",
       "    </tr>\n",
       "    <tr>\n",
       "      <th>7</th>\n",
       "      <td>36</td>\n",
       "      <td>Current</td>\n",
       "      <td>0.23939</td>\n",
       "      <td>0.2019</td>\n",
       "      <td>0.1919</td>\n",
       "      <td>2</td>\n",
       "      <td>False</td>\n",
       "      <td>False</td>\n",
       "      <td>2013-05-05 06:49:25</td>\n",
       "      <td>700.0</td>\n",
       "      <td>...</td>\n",
       "      <td>0</td>\n",
       "      <td>1</td>\n",
       "      <td>0</td>\n",
       "      <td>0</td>\n",
       "      <td>0</td>\n",
       "      <td>0</td>\n",
       "      <td>0</td>\n",
       "      <td>0</td>\n",
       "      <td>0</td>\n",
       "      <td>0</td>\n",
       "    </tr>\n",
       "    <tr>\n",
       "      <th>8</th>\n",
       "      <td>36</td>\n",
       "      <td>Current</td>\n",
       "      <td>0.07620</td>\n",
       "      <td>0.0629</td>\n",
       "      <td>0.0529</td>\n",
       "      <td>7</td>\n",
       "      <td>True</td>\n",
       "      <td>False</td>\n",
       "      <td>2013-12-02 10:43:39</td>\n",
       "      <td>820.0</td>\n",
       "      <td>...</td>\n",
       "      <td>0</td>\n",
       "      <td>1</td>\n",
       "      <td>0</td>\n",
       "      <td>0</td>\n",
       "      <td>0</td>\n",
       "      <td>0</td>\n",
       "      <td>0</td>\n",
       "      <td>0</td>\n",
       "      <td>0</td>\n",
       "      <td>0</td>\n",
       "    </tr>\n",
       "    <tr>\n",
       "      <th>10</th>\n",
       "      <td>60</td>\n",
       "      <td>Current</td>\n",
       "      <td>0.27462</td>\n",
       "      <td>0.2489</td>\n",
       "      <td>0.2389</td>\n",
       "      <td>1</td>\n",
       "      <td>False</td>\n",
       "      <td>False</td>\n",
       "      <td>2012-04-22 08:38:09</td>\n",
       "      <td>640.0</td>\n",
       "      <td>...</td>\n",
       "      <td>0</td>\n",
       "      <td>1</td>\n",
       "      <td>0</td>\n",
       "      <td>0</td>\n",
       "      <td>0</td>\n",
       "      <td>0</td>\n",
       "      <td>0</td>\n",
       "      <td>0</td>\n",
       "      <td>0</td>\n",
       "      <td>0</td>\n",
       "    </tr>\n",
       "  </tbody>\n",
       "</table>\n",
       "<p>10 rows × 54 columns</p>\n",
       "</div>"
      ],
      "text/plain": [
       "    Term LoanStatus  BorrowerAPR  BorrowerRate  LenderYield  \\\n",
       "0     36  Completed      0.16516        0.1580       0.1380   \n",
       "1     36    Current      0.12016        0.0920       0.0820   \n",
       "2     36  Completed      0.28269        0.2750       0.2400   \n",
       "3     36    Current      0.12528        0.0974       0.0874   \n",
       "4     36    Current      0.24614        0.2085       0.1985   \n",
       "5     60    Current      0.15425        0.1314       0.1214   \n",
       "6     36    Current      0.31032        0.2712       0.2612   \n",
       "7     36    Current      0.23939        0.2019       0.1919   \n",
       "8     36    Current      0.07620        0.0629       0.0529   \n",
       "10    60    Current      0.27462        0.2489       0.2389   \n",
       "\n",
       "    ListingCategory (numeric)  IsBorrowerHomeowner  CurrentlyInGroup  \\\n",
       "0                           0                 True              True   \n",
       "1                           2                False             False   \n",
       "2                           0                False              True   \n",
       "3                          16                 True             False   \n",
       "4                           2                 True             False   \n",
       "5                           1                 True             False   \n",
       "6                           1                False             False   \n",
       "7                           2                False             False   \n",
       "8                           7                 True             False   \n",
       "10                          1                False             False   \n",
       "\n",
       "                 DateCreditPulled  CreditScoreRangeLower  ...  Completed  \\\n",
       "0   2007-08-26 18:41:46.780000000                  640.0  ...          1   \n",
       "1             2014-02-27 08:28:14                  680.0  ...          0   \n",
       "2   2007-01-02 14:09:10.060000000                  480.0  ...          1   \n",
       "3             2012-10-22 11:02:32                  800.0  ...          0   \n",
       "4             2013-09-14 18:38:44                  680.0  ...          0   \n",
       "5             2013-12-14 08:26:40                  740.0  ...          0   \n",
       "6             2013-04-12 09:52:53                  680.0  ...          0   \n",
       "7             2013-05-05 06:49:25                  700.0  ...          0   \n",
       "8             2013-12-02 10:43:39                  820.0  ...          0   \n",
       "10            2012-04-22 08:38:09                  640.0  ...          0   \n",
       "\n",
       "   Current  Defaulted  FinalPaymentInProgress  Past Due (1-15 days)  \\\n",
       "0        0          0                       0                     0   \n",
       "1        1          0                       0                     0   \n",
       "2        0          0                       0                     0   \n",
       "3        1          0                       0                     0   \n",
       "4        1          0                       0                     0   \n",
       "5        1          0                       0                     0   \n",
       "6        1          0                       0                     0   \n",
       "7        1          0                       0                     0   \n",
       "8        1          0                       0                     0   \n",
       "10       1          0                       0                     0   \n",
       "\n",
       "    Past Due (16-30 days)  Past Due (31-60 days)  Past Due (61-90 days)  \\\n",
       "0                       0                      0                      0   \n",
       "1                       0                      0                      0   \n",
       "2                       0                      0                      0   \n",
       "3                       0                      0                      0   \n",
       "4                       0                      0                      0   \n",
       "5                       0                      0                      0   \n",
       "6                       0                      0                      0   \n",
       "7                       0                      0                      0   \n",
       "8                       0                      0                      0   \n",
       "10                      0                      0                      0   \n",
       "\n",
       "    Past Due (91-120 days)  Past Due (>120 days)  \n",
       "0                        0                     0  \n",
       "1                        0                     0  \n",
       "2                        0                     0  \n",
       "3                        0                     0  \n",
       "4                        0                     0  \n",
       "5                        0                     0  \n",
       "6                        0                     0  \n",
       "7                        0                     0  \n",
       "8                        0                     0  \n",
       "10                       0                     0  \n",
       "\n",
       "[10 rows x 54 columns]"
      ]
     },
     "metadata": {},
     "output_type": "display_data"
    },
    {
     "data": {
      "text/html": [
       "<div>\n",
       "<style scoped>\n",
       "    .dataframe tbody tr th:only-of-type {\n",
       "        vertical-align: middle;\n",
       "    }\n",
       "\n",
       "    .dataframe tbody tr th {\n",
       "        vertical-align: top;\n",
       "    }\n",
       "\n",
       "    .dataframe thead th {\n",
       "        text-align: right;\n",
       "    }\n",
       "</style>\n",
       "<table border=\"1\" class=\"dataframe\">\n",
       "  <thead>\n",
       "    <tr style=\"text-align: right;\">\n",
       "      <th></th>\n",
       "      <th>Term</th>\n",
       "      <th>LoanStatus</th>\n",
       "      <th>BorrowerAPR</th>\n",
       "      <th>BorrowerRate</th>\n",
       "      <th>LenderYield</th>\n",
       "      <th>ListingCategory (numeric)</th>\n",
       "      <th>IsBorrowerHomeowner</th>\n",
       "      <th>CurrentlyInGroup</th>\n",
       "      <th>DateCreditPulled</th>\n",
       "      <th>CreditScoreRangeLower</th>\n",
       "      <th>...</th>\n",
       "      <th>Completed</th>\n",
       "      <th>Current</th>\n",
       "      <th>Defaulted</th>\n",
       "      <th>FinalPaymentInProgress</th>\n",
       "      <th>Past Due (1-15 days)</th>\n",
       "      <th>Past Due (16-30 days)</th>\n",
       "      <th>Past Due (31-60 days)</th>\n",
       "      <th>Past Due (61-90 days)</th>\n",
       "      <th>Past Due (91-120 days)</th>\n",
       "      <th>Past Due (&gt;120 days)</th>\n",
       "    </tr>\n",
       "  </thead>\n",
       "  <tbody>\n",
       "    <tr>\n",
       "      <th>113927</th>\n",
       "      <td>36</td>\n",
       "      <td>Completed</td>\n",
       "      <td>0.07469</td>\n",
       "      <td>0.0679</td>\n",
       "      <td>0.0579</td>\n",
       "      <td>4</td>\n",
       "      <td>True</td>\n",
       "      <td>True</td>\n",
       "      <td>2008-04-30 21:20:54.587000000</td>\n",
       "      <td>760.0</td>\n",
       "      <td>...</td>\n",
       "      <td>1</td>\n",
       "      <td>0</td>\n",
       "      <td>0</td>\n",
       "      <td>0</td>\n",
       "      <td>0</td>\n",
       "      <td>0</td>\n",
       "      <td>0</td>\n",
       "      <td>0</td>\n",
       "      <td>0</td>\n",
       "      <td>0</td>\n",
       "    </tr>\n",
       "    <tr>\n",
       "      <th>113928</th>\n",
       "      <td>36</td>\n",
       "      <td>Completed</td>\n",
       "      <td>0.22362</td>\n",
       "      <td>0.1899</td>\n",
       "      <td>0.1799</td>\n",
       "      <td>3</td>\n",
       "      <td>False</td>\n",
       "      <td>False</td>\n",
       "      <td>2011-06-03 16:06:00</td>\n",
       "      <td>740.0</td>\n",
       "      <td>...</td>\n",
       "      <td>1</td>\n",
       "      <td>0</td>\n",
       "      <td>0</td>\n",
       "      <td>0</td>\n",
       "      <td>0</td>\n",
       "      <td>0</td>\n",
       "      <td>0</td>\n",
       "      <td>0</td>\n",
       "      <td>0</td>\n",
       "      <td>0</td>\n",
       "    </tr>\n",
       "    <tr>\n",
       "      <th>113929</th>\n",
       "      <td>36</td>\n",
       "      <td>Completed</td>\n",
       "      <td>0.30285</td>\n",
       "      <td>0.2639</td>\n",
       "      <td>0.2539</td>\n",
       "      <td>2</td>\n",
       "      <td>False</td>\n",
       "      <td>False</td>\n",
       "      <td>2013-07-06 17:39:52</td>\n",
       "      <td>660.0</td>\n",
       "      <td>...</td>\n",
       "      <td>1</td>\n",
       "      <td>0</td>\n",
       "      <td>0</td>\n",
       "      <td>0</td>\n",
       "      <td>0</td>\n",
       "      <td>0</td>\n",
       "      <td>0</td>\n",
       "      <td>0</td>\n",
       "      <td>0</td>\n",
       "      <td>0</td>\n",
       "    </tr>\n",
       "    <tr>\n",
       "      <th>113930</th>\n",
       "      <td>36</td>\n",
       "      <td>Current</td>\n",
       "      <td>0.20053</td>\n",
       "      <td>0.1639</td>\n",
       "      <td>0.1539</td>\n",
       "      <td>1</td>\n",
       "      <td>True</td>\n",
       "      <td>False</td>\n",
       "      <td>2013-07-08 10:24:38</td>\n",
       "      <td>680.0</td>\n",
       "      <td>...</td>\n",
       "      <td>0</td>\n",
       "      <td>1</td>\n",
       "      <td>0</td>\n",
       "      <td>0</td>\n",
       "      <td>0</td>\n",
       "      <td>0</td>\n",
       "      <td>0</td>\n",
       "      <td>0</td>\n",
       "      <td>0</td>\n",
       "      <td>0</td>\n",
       "    </tr>\n",
       "    <tr>\n",
       "      <th>113931</th>\n",
       "      <td>60</td>\n",
       "      <td>Current</td>\n",
       "      <td>0.15016</td>\n",
       "      <td>0.1274</td>\n",
       "      <td>0.1174</td>\n",
       "      <td>3</td>\n",
       "      <td>False</td>\n",
       "      <td>False</td>\n",
       "      <td>2014-01-03 10:17:23</td>\n",
       "      <td>800.0</td>\n",
       "      <td>...</td>\n",
       "      <td>0</td>\n",
       "      <td>1</td>\n",
       "      <td>0</td>\n",
       "      <td>0</td>\n",
       "      <td>0</td>\n",
       "      <td>0</td>\n",
       "      <td>0</td>\n",
       "      <td>0</td>\n",
       "      <td>0</td>\n",
       "      <td>0</td>\n",
       "    </tr>\n",
       "    <tr>\n",
       "      <th>113932</th>\n",
       "      <td>36</td>\n",
       "      <td>Current</td>\n",
       "      <td>0.22354</td>\n",
       "      <td>0.1864</td>\n",
       "      <td>0.1764</td>\n",
       "      <td>1</td>\n",
       "      <td>True</td>\n",
       "      <td>False</td>\n",
       "      <td>2013-04-14 05:54:58</td>\n",
       "      <td>700.0</td>\n",
       "      <td>...</td>\n",
       "      <td>0</td>\n",
       "      <td>1</td>\n",
       "      <td>0</td>\n",
       "      <td>0</td>\n",
       "      <td>0</td>\n",
       "      <td>0</td>\n",
       "      <td>0</td>\n",
       "      <td>0</td>\n",
       "      <td>0</td>\n",
       "      <td>0</td>\n",
       "    </tr>\n",
       "    <tr>\n",
       "      <th>113933</th>\n",
       "      <td>36</td>\n",
       "      <td>FinalPaymentInProgress</td>\n",
       "      <td>0.13220</td>\n",
       "      <td>0.1110</td>\n",
       "      <td>0.1010</td>\n",
       "      <td>7</td>\n",
       "      <td>True</td>\n",
       "      <td>False</td>\n",
       "      <td>2011-11-03 20:42:53</td>\n",
       "      <td>700.0</td>\n",
       "      <td>...</td>\n",
       "      <td>0</td>\n",
       "      <td>0</td>\n",
       "      <td>0</td>\n",
       "      <td>1</td>\n",
       "      <td>0</td>\n",
       "      <td>0</td>\n",
       "      <td>0</td>\n",
       "      <td>0</td>\n",
       "      <td>0</td>\n",
       "      <td>0</td>\n",
       "    </tr>\n",
       "    <tr>\n",
       "      <th>113934</th>\n",
       "      <td>60</td>\n",
       "      <td>Current</td>\n",
       "      <td>0.23984</td>\n",
       "      <td>0.2150</td>\n",
       "      <td>0.2050</td>\n",
       "      <td>1</td>\n",
       "      <td>True</td>\n",
       "      <td>False</td>\n",
       "      <td>2013-12-13 05:49:15</td>\n",
       "      <td>700.0</td>\n",
       "      <td>...</td>\n",
       "      <td>0</td>\n",
       "      <td>1</td>\n",
       "      <td>0</td>\n",
       "      <td>0</td>\n",
       "      <td>0</td>\n",
       "      <td>0</td>\n",
       "      <td>0</td>\n",
       "      <td>0</td>\n",
       "      <td>0</td>\n",
       "      <td>0</td>\n",
       "    </tr>\n",
       "    <tr>\n",
       "      <th>113935</th>\n",
       "      <td>60</td>\n",
       "      <td>Completed</td>\n",
       "      <td>0.28408</td>\n",
       "      <td>0.2605</td>\n",
       "      <td>0.2505</td>\n",
       "      <td>2</td>\n",
       "      <td>True</td>\n",
       "      <td>False</td>\n",
       "      <td>2011-11-14 13:18:24</td>\n",
       "      <td>680.0</td>\n",
       "      <td>...</td>\n",
       "      <td>1</td>\n",
       "      <td>0</td>\n",
       "      <td>0</td>\n",
       "      <td>0</td>\n",
       "      <td>0</td>\n",
       "      <td>0</td>\n",
       "      <td>0</td>\n",
       "      <td>0</td>\n",
       "      <td>0</td>\n",
       "      <td>0</td>\n",
       "    </tr>\n",
       "    <tr>\n",
       "      <th>113936</th>\n",
       "      <td>36</td>\n",
       "      <td>Current</td>\n",
       "      <td>0.13189</td>\n",
       "      <td>0.1039</td>\n",
       "      <td>0.0939</td>\n",
       "      <td>1</td>\n",
       "      <td>False</td>\n",
       "      <td>False</td>\n",
       "      <td>2014-01-15 09:27:40</td>\n",
       "      <td>680.0</td>\n",
       "      <td>...</td>\n",
       "      <td>0</td>\n",
       "      <td>1</td>\n",
       "      <td>0</td>\n",
       "      <td>0</td>\n",
       "      <td>0</td>\n",
       "      <td>0</td>\n",
       "      <td>0</td>\n",
       "      <td>0</td>\n",
       "      <td>0</td>\n",
       "      <td>0</td>\n",
       "    </tr>\n",
       "  </tbody>\n",
       "</table>\n",
       "<p>10 rows × 54 columns</p>\n",
       "</div>"
      ],
      "text/plain": [
       "        Term              LoanStatus  BorrowerAPR  BorrowerRate  LenderYield  \\\n",
       "113927    36               Completed      0.07469        0.0679       0.0579   \n",
       "113928    36               Completed      0.22362        0.1899       0.1799   \n",
       "113929    36               Completed      0.30285        0.2639       0.2539   \n",
       "113930    36                 Current      0.20053        0.1639       0.1539   \n",
       "113931    60                 Current      0.15016        0.1274       0.1174   \n",
       "113932    36                 Current      0.22354        0.1864       0.1764   \n",
       "113933    36  FinalPaymentInProgress      0.13220        0.1110       0.1010   \n",
       "113934    60                 Current      0.23984        0.2150       0.2050   \n",
       "113935    60               Completed      0.28408        0.2605       0.2505   \n",
       "113936    36                 Current      0.13189        0.1039       0.0939   \n",
       "\n",
       "        ListingCategory (numeric)  IsBorrowerHomeowner  CurrentlyInGroup  \\\n",
       "113927                          4                 True              True   \n",
       "113928                          3                False             False   \n",
       "113929                          2                False             False   \n",
       "113930                          1                 True             False   \n",
       "113931                          3                False             False   \n",
       "113932                          1                 True             False   \n",
       "113933                          7                 True             False   \n",
       "113934                          1                 True             False   \n",
       "113935                          2                 True             False   \n",
       "113936                          1                False             False   \n",
       "\n",
       "                     DateCreditPulled  CreditScoreRangeLower  ...  Completed  \\\n",
       "113927  2008-04-30 21:20:54.587000000                  760.0  ...          1   \n",
       "113928            2011-06-03 16:06:00                  740.0  ...          1   \n",
       "113929            2013-07-06 17:39:52                  660.0  ...          1   \n",
       "113930            2013-07-08 10:24:38                  680.0  ...          0   \n",
       "113931            2014-01-03 10:17:23                  800.0  ...          0   \n",
       "113932            2013-04-14 05:54:58                  700.0  ...          0   \n",
       "113933            2011-11-03 20:42:53                  700.0  ...          0   \n",
       "113934            2013-12-13 05:49:15                  700.0  ...          0   \n",
       "113935            2011-11-14 13:18:24                  680.0  ...          1   \n",
       "113936            2014-01-15 09:27:40                  680.0  ...          0   \n",
       "\n",
       "       Current  Defaulted  FinalPaymentInProgress  Past Due (1-15 days)  \\\n",
       "113927       0          0                       0                     0   \n",
       "113928       0          0                       0                     0   \n",
       "113929       0          0                       0                     0   \n",
       "113930       1          0                       0                     0   \n",
       "113931       1          0                       0                     0   \n",
       "113932       1          0                       0                     0   \n",
       "113933       0          0                       1                     0   \n",
       "113934       1          0                       0                     0   \n",
       "113935       0          0                       0                     0   \n",
       "113936       1          0                       0                     0   \n",
       "\n",
       "        Past Due (16-30 days)  Past Due (31-60 days)  Past Due (61-90 days)  \\\n",
       "113927                      0                      0                      0   \n",
       "113928                      0                      0                      0   \n",
       "113929                      0                      0                      0   \n",
       "113930                      0                      0                      0   \n",
       "113931                      0                      0                      0   \n",
       "113932                      0                      0                      0   \n",
       "113933                      0                      0                      0   \n",
       "113934                      0                      0                      0   \n",
       "113935                      0                      0                      0   \n",
       "113936                      0                      0                      0   \n",
       "\n",
       "        Past Due (91-120 days)  Past Due (>120 days)  \n",
       "113927                       0                     0  \n",
       "113928                       0                     0  \n",
       "113929                       0                     0  \n",
       "113930                       0                     0  \n",
       "113931                       0                     0  \n",
       "113932                       0                     0  \n",
       "113933                       0                     0  \n",
       "113934                       0                     0  \n",
       "113935                       0                     0  \n",
       "113936                       0                     0  \n",
       "\n",
       "[10 rows x 54 columns]"
      ]
     },
     "execution_count": 21,
     "metadata": {},
     "output_type": "execute_result"
    }
   ],
   "source": [
    "display(dfc.head(10))\n",
    "dfc.tail(10)\n"
   ]
  },
  {
   "cell_type": "code",
   "execution_count": 22,
   "metadata": {
    "colab": {
     "base_uri": "https://localhost:8080/",
     "height": 381
    },
    "id": "iVvUGbB62Fh5",
    "outputId": "53d31cb7-0e67-4988-b4fd-72e95327185f"
   },
   "outputs": [
    {
     "data": {
      "text/html": [
       "<div>\n",
       "<style scoped>\n",
       "    .dataframe tbody tr th:only-of-type {\n",
       "        vertical-align: middle;\n",
       "    }\n",
       "\n",
       "    .dataframe tbody tr th {\n",
       "        vertical-align: top;\n",
       "    }\n",
       "\n",
       "    .dataframe thead th {\n",
       "        text-align: right;\n",
       "    }\n",
       "</style>\n",
       "<table border=\"1\" class=\"dataframe\">\n",
       "  <thead>\n",
       "    <tr style=\"text-align: right;\">\n",
       "      <th></th>\n",
       "      <th>Term</th>\n",
       "      <th>BorrowerAPR</th>\n",
       "      <th>BorrowerRate</th>\n",
       "      <th>LenderYield</th>\n",
       "      <th>ListingCategory (numeric)</th>\n",
       "      <th>CreditScoreRangeLower</th>\n",
       "      <th>CreditScoreRangeUpper</th>\n",
       "      <th>TotalCreditLinespast7years</th>\n",
       "      <th>OpenRevolvingAccounts</th>\n",
       "      <th>OpenRevolvingMonthlyPayment</th>\n",
       "      <th>...</th>\n",
       "      <th>Completed</th>\n",
       "      <th>Current</th>\n",
       "      <th>Defaulted</th>\n",
       "      <th>FinalPaymentInProgress</th>\n",
       "      <th>Past Due (1-15 days)</th>\n",
       "      <th>Past Due (16-30 days)</th>\n",
       "      <th>Past Due (31-60 days)</th>\n",
       "      <th>Past Due (61-90 days)</th>\n",
       "      <th>Past Due (91-120 days)</th>\n",
       "      <th>Past Due (&gt;120 days)</th>\n",
       "    </tr>\n",
       "  </thead>\n",
       "  <tbody>\n",
       "    <tr>\n",
       "      <th>count</th>\n",
       "      <td>113066.000000</td>\n",
       "      <td>113041.000000</td>\n",
       "      <td>113066.000000</td>\n",
       "      <td>113066.000000</td>\n",
       "      <td>113066.000000</td>\n",
       "      <td>112475.000000</td>\n",
       "      <td>112475.000000</td>\n",
       "      <td>112369.000000</td>\n",
       "      <td>113066.000000</td>\n",
       "      <td>113066.000000</td>\n",
       "      <td>...</td>\n",
       "      <td>113066.000000</td>\n",
       "      <td>113066.000000</td>\n",
       "      <td>113066.000000</td>\n",
       "      <td>113066.000000</td>\n",
       "      <td>113066.000000</td>\n",
       "      <td>113066.000000</td>\n",
       "      <td>113066.000000</td>\n",
       "      <td>113066.000000</td>\n",
       "      <td>113066.000000</td>\n",
       "      <td>113066.000000</td>\n",
       "    </tr>\n",
       "    <tr>\n",
       "      <th>mean</th>\n",
       "      <td>40.800170</td>\n",
       "      <td>0.218980</td>\n",
       "      <td>0.192946</td>\n",
       "      <td>0.182882</td>\n",
       "      <td>2.776838</td>\n",
       "      <td>685.524961</td>\n",
       "      <td>704.524961</td>\n",
       "      <td>26.746380</td>\n",
       "      <td>6.959466</td>\n",
       "      <td>397.820998</td>\n",
       "      <td>...</td>\n",
       "      <td>0.336626</td>\n",
       "      <td>0.492898</td>\n",
       "      <td>0.044381</td>\n",
       "      <td>0.001795</td>\n",
       "      <td>0.007076</td>\n",
       "      <td>0.002344</td>\n",
       "      <td>0.003193</td>\n",
       "      <td>0.002751</td>\n",
       "      <td>0.002689</td>\n",
       "      <td>0.000142</td>\n",
       "    </tr>\n",
       "    <tr>\n",
       "      <th>std</th>\n",
       "      <td>10.421518</td>\n",
       "      <td>0.080483</td>\n",
       "      <td>0.074917</td>\n",
       "      <td>0.074612</td>\n",
       "      <td>3.998188</td>\n",
       "      <td>66.635895</td>\n",
       "      <td>66.635895</td>\n",
       "      <td>13.643731</td>\n",
       "      <td>4.629303</td>\n",
       "      <td>447.657266</td>\n",
       "      <td>...</td>\n",
       "      <td>0.472558</td>\n",
       "      <td>0.499952</td>\n",
       "      <td>0.205941</td>\n",
       "      <td>0.042334</td>\n",
       "      <td>0.083818</td>\n",
       "      <td>0.048356</td>\n",
       "      <td>0.056415</td>\n",
       "      <td>0.052374</td>\n",
       "      <td>0.051783</td>\n",
       "      <td>0.011895</td>\n",
       "    </tr>\n",
       "    <tr>\n",
       "      <th>min</th>\n",
       "      <td>12.000000</td>\n",
       "      <td>0.006530</td>\n",
       "      <td>0.000000</td>\n",
       "      <td>-0.010000</td>\n",
       "      <td>0.000000</td>\n",
       "      <td>0.000000</td>\n",
       "      <td>19.000000</td>\n",
       "      <td>2.000000</td>\n",
       "      <td>0.000000</td>\n",
       "      <td>0.000000</td>\n",
       "      <td>...</td>\n",
       "      <td>0.000000</td>\n",
       "      <td>0.000000</td>\n",
       "      <td>0.000000</td>\n",
       "      <td>0.000000</td>\n",
       "      <td>0.000000</td>\n",
       "      <td>0.000000</td>\n",
       "      <td>0.000000</td>\n",
       "      <td>0.000000</td>\n",
       "      <td>0.000000</td>\n",
       "      <td>0.000000</td>\n",
       "    </tr>\n",
       "    <tr>\n",
       "      <th>25%</th>\n",
       "      <td>36.000000</td>\n",
       "      <td>0.156290</td>\n",
       "      <td>0.134000</td>\n",
       "      <td>0.124500</td>\n",
       "      <td>1.000000</td>\n",
       "      <td>660.000000</td>\n",
       "      <td>679.000000</td>\n",
       "      <td>17.000000</td>\n",
       "      <td>4.000000</td>\n",
       "      <td>113.000000</td>\n",
       "      <td>...</td>\n",
       "      <td>0.000000</td>\n",
       "      <td>0.000000</td>\n",
       "      <td>0.000000</td>\n",
       "      <td>0.000000</td>\n",
       "      <td>0.000000</td>\n",
       "      <td>0.000000</td>\n",
       "      <td>0.000000</td>\n",
       "      <td>0.000000</td>\n",
       "      <td>0.000000</td>\n",
       "      <td>0.000000</td>\n",
       "    </tr>\n",
       "    <tr>\n",
       "      <th>50%</th>\n",
       "      <td>36.000000</td>\n",
       "      <td>0.209840</td>\n",
       "      <td>0.184000</td>\n",
       "      <td>0.174000</td>\n",
       "      <td>1.000000</td>\n",
       "      <td>680.000000</td>\n",
       "      <td>699.000000</td>\n",
       "      <td>25.000000</td>\n",
       "      <td>6.000000</td>\n",
       "      <td>271.000000</td>\n",
       "      <td>...</td>\n",
       "      <td>0.000000</td>\n",
       "      <td>0.000000</td>\n",
       "      <td>0.000000</td>\n",
       "      <td>0.000000</td>\n",
       "      <td>0.000000</td>\n",
       "      <td>0.000000</td>\n",
       "      <td>0.000000</td>\n",
       "      <td>0.000000</td>\n",
       "      <td>0.000000</td>\n",
       "      <td>0.000000</td>\n",
       "    </tr>\n",
       "    <tr>\n",
       "      <th>75%</th>\n",
       "      <td>36.000000</td>\n",
       "      <td>0.283860</td>\n",
       "      <td>0.250600</td>\n",
       "      <td>0.240600</td>\n",
       "      <td>3.000000</td>\n",
       "      <td>720.000000</td>\n",
       "      <td>739.000000</td>\n",
       "      <td>35.000000</td>\n",
       "      <td>9.000000</td>\n",
       "      <td>525.000000</td>\n",
       "      <td>...</td>\n",
       "      <td>1.000000</td>\n",
       "      <td>1.000000</td>\n",
       "      <td>0.000000</td>\n",
       "      <td>0.000000</td>\n",
       "      <td>0.000000</td>\n",
       "      <td>0.000000</td>\n",
       "      <td>0.000000</td>\n",
       "      <td>0.000000</td>\n",
       "      <td>0.000000</td>\n",
       "      <td>0.000000</td>\n",
       "    </tr>\n",
       "    <tr>\n",
       "      <th>max</th>\n",
       "      <td>60.000000</td>\n",
       "      <td>0.512290</td>\n",
       "      <td>0.497500</td>\n",
       "      <td>0.492500</td>\n",
       "      <td>20.000000</td>\n",
       "      <td>880.000000</td>\n",
       "      <td>899.000000</td>\n",
       "      <td>136.000000</td>\n",
       "      <td>51.000000</td>\n",
       "      <td>14985.000000</td>\n",
       "      <td>...</td>\n",
       "      <td>1.000000</td>\n",
       "      <td>1.000000</td>\n",
       "      <td>1.000000</td>\n",
       "      <td>1.000000</td>\n",
       "      <td>1.000000</td>\n",
       "      <td>1.000000</td>\n",
       "      <td>1.000000</td>\n",
       "      <td>1.000000</td>\n",
       "      <td>1.000000</td>\n",
       "      <td>1.000000</td>\n",
       "    </tr>\n",
       "  </tbody>\n",
       "</table>\n",
       "<p>8 rows × 45 columns</p>\n",
       "</div>"
      ],
      "text/plain": [
       "                Term    BorrowerAPR   BorrowerRate    LenderYield  \\\n",
       "count  113066.000000  113041.000000  113066.000000  113066.000000   \n",
       "mean       40.800170       0.218980       0.192946       0.182882   \n",
       "std        10.421518       0.080483       0.074917       0.074612   \n",
       "min        12.000000       0.006530       0.000000      -0.010000   \n",
       "25%        36.000000       0.156290       0.134000       0.124500   \n",
       "50%        36.000000       0.209840       0.184000       0.174000   \n",
       "75%        36.000000       0.283860       0.250600       0.240600   \n",
       "max        60.000000       0.512290       0.497500       0.492500   \n",
       "\n",
       "       ListingCategory (numeric)  CreditScoreRangeLower  \\\n",
       "count              113066.000000          112475.000000   \n",
       "mean                    2.776838             685.524961   \n",
       "std                     3.998188              66.635895   \n",
       "min                     0.000000               0.000000   \n",
       "25%                     1.000000             660.000000   \n",
       "50%                     1.000000             680.000000   \n",
       "75%                     3.000000             720.000000   \n",
       "max                    20.000000             880.000000   \n",
       "\n",
       "       CreditScoreRangeUpper  TotalCreditLinespast7years  \\\n",
       "count          112475.000000               112369.000000   \n",
       "mean              704.524961                   26.746380   \n",
       "std                66.635895                   13.643731   \n",
       "min                19.000000                    2.000000   \n",
       "25%               679.000000                   17.000000   \n",
       "50%               699.000000                   25.000000   \n",
       "75%               739.000000                   35.000000   \n",
       "max               899.000000                  136.000000   \n",
       "\n",
       "       OpenRevolvingAccounts  OpenRevolvingMonthlyPayment  ...      Completed  \\\n",
       "count          113066.000000                113066.000000  ...  113066.000000   \n",
       "mean                6.959466                   397.820998  ...       0.336626   \n",
       "std                 4.629303                   447.657266  ...       0.472558   \n",
       "min                 0.000000                     0.000000  ...       0.000000   \n",
       "25%                 4.000000                   113.000000  ...       0.000000   \n",
       "50%                 6.000000                   271.000000  ...       0.000000   \n",
       "75%                 9.000000                   525.000000  ...       1.000000   \n",
       "max                51.000000                 14985.000000  ...       1.000000   \n",
       "\n",
       "             Current      Defaulted  FinalPaymentInProgress  \\\n",
       "count  113066.000000  113066.000000           113066.000000   \n",
       "mean        0.492898       0.044381                0.001795   \n",
       "std         0.499952       0.205941                0.042334   \n",
       "min         0.000000       0.000000                0.000000   \n",
       "25%         0.000000       0.000000                0.000000   \n",
       "50%         0.000000       0.000000                0.000000   \n",
       "75%         1.000000       0.000000                0.000000   \n",
       "max         1.000000       1.000000                1.000000   \n",
       "\n",
       "       Past Due (1-15 days)  Past Due (16-30 days)  Past Due (31-60 days)  \\\n",
       "count         113066.000000          113066.000000          113066.000000   \n",
       "mean               0.007076               0.002344               0.003193   \n",
       "std                0.083818               0.048356               0.056415   \n",
       "min                0.000000               0.000000               0.000000   \n",
       "25%                0.000000               0.000000               0.000000   \n",
       "50%                0.000000               0.000000               0.000000   \n",
       "75%                0.000000               0.000000               0.000000   \n",
       "max                1.000000               1.000000               1.000000   \n",
       "\n",
       "       Past Due (61-90 days)  Past Due (91-120 days)  Past Due (>120 days)  \n",
       "count          113066.000000           113066.000000         113066.000000  \n",
       "mean                0.002751                0.002689              0.000142  \n",
       "std                 0.052374                0.051783              0.011895  \n",
       "min                 0.000000                0.000000              0.000000  \n",
       "25%                 0.000000                0.000000              0.000000  \n",
       "50%                 0.000000                0.000000              0.000000  \n",
       "75%                 0.000000                0.000000              0.000000  \n",
       "max                 1.000000                1.000000              1.000000  \n",
       "\n",
       "[8 rows x 45 columns]"
      ]
     },
     "execution_count": 22,
     "metadata": {},
     "output_type": "execute_result"
    }
   ],
   "source": [
    "dfc.describe()"
   ]
  },
  {
   "cell_type": "code",
   "execution_count": 23,
   "metadata": {
    "colab": {
     "base_uri": "https://localhost:8080/",
     "height": 0
    },
    "id": "pIQSrgfH3dLl",
    "outputId": "257e247d-a13b-4529-a30e-0142fb626a3c"
   },
   "outputs": [
    {
     "data": {
      "text/plain": [
       "($25,000-49,999    31940\n",
       " $50,000-74,999    30749\n",
       " $100,000+         17188\n",
       " $75,000-99,999    16780\n",
       " Not displayed      7741\n",
       " $1-24,999          7241\n",
       " Not employed        806\n",
       " $0                  621\n",
       " Name: IncomeRange, dtype: int64,\n",
       " Index(['$25,000-49,999', '$50,000-74,999', '$100,000+', '$75,000-99,999',\n",
       "        'Not displayed', '$1-24,999', 'Not employed', '$0'],\n",
       "       dtype='object'))"
      ]
     },
     "execution_count": 23,
     "metadata": {},
     "output_type": "execute_result"
    }
   ],
   "source": [
    "dfc.IncomeRange.value_counts(), dfc.IncomeRange.value_counts().keys()"
   ]
  },
  {
   "cell_type": "code",
   "execution_count": 24,
   "metadata": {
    "id": "D3Vgz6G0okfv"
   },
   "outputs": [],
   "source": [
    "IncomeRanceType = pd.api.types.CategoricalDtype(['$0', 'Not employed', 'Not displayed', '$1-24,999', '$25,000-49,999', '$50,000-74,999', '$75,000-99,999', '$100,000+', \n",
    "          ], ordered=True)\n",
    "\n",
    "dfc.IncomeRange = dfc.IncomeRange.astype(IncomeRanceType)"
   ]
  },
  {
   "cell_type": "code",
   "execution_count": 25,
   "metadata": {
    "colab": {
     "base_uri": "https://localhost:8080/",
     "height": 0
    },
    "id": "MsTwBznm2FkT",
    "outputId": "4c2e5cf7-047b-4406-dd5a-0fda8a75c19a"
   },
   "outputs": [
    {
     "data": {
      "text/plain": [
       "True     104479\n",
       "False      8587\n",
       "Name: IncomeVerifiable, dtype: int64"
      ]
     },
     "execution_count": 25,
     "metadata": {},
     "output_type": "execute_result"
    }
   ],
   "source": [
    "dfc.IncomeVerifiable.value_counts()"
   ]
  },
  {
   "cell_type": "code",
   "execution_count": 26,
   "metadata": {
    "colab": {
     "base_uri": "https://localhost:8080/",
     "height": 0
    },
    "id": "ozqwiH6F5OZJ",
    "outputId": "5d55839b-99ad-460d-edb0-f4073c8937f3"
   },
   "outputs": [
    {
     "data": {
      "text/plain": [
       "Current                   55730\n",
       "Completed                 38061\n",
       "Chargedoff                11992\n",
       "Defaulted                  5018\n",
       "Past Due (1-15 days)        800\n",
       "Past Due (31-60 days)       361\n",
       "Past Due (61-90 days)       311\n",
       "Past Due (91-120 days)      304\n",
       "Past Due (16-30 days)       265\n",
       "FinalPaymentInProgress      203\n",
       "Past Due (>120 days)         16\n",
       "Cancelled                     5\n",
       "Name: LoanStatus, dtype: int64"
      ]
     },
     "execution_count": 26,
     "metadata": {},
     "output_type": "execute_result"
    }
   ],
   "source": [
    "dfc.LoanStatus.value_counts()"
   ]
  },
  {
   "cell_type": "code",
   "execution_count": 27,
   "metadata": {
    "colab": {
     "base_uri": "https://localhost:8080/",
     "height": 661
    },
    "id": "bJb-tPLw5vWO",
    "outputId": "18415be2-ee10-4815-dc50-f2bc1e677e82"
   },
   "outputs": [
    {
     "data": {
      "image/png": "[encoded data removed]",
      "text/plain": [
       "<Figure size 1440x720 with 1 Axes>"
      ]
     },
     "metadata": {
      "needs_background": "light"
     },
     "output_type": "display_data"
    }
   ],
   "source": [
    "pal = np.array(sb.color_palette())\n",
    "plt.rcParams['figure.figsize'] = (20, 10)\n",
    "\n",
    "sb.countplot(x='LoanStatus',  hue='IncomeVerifiable', data=dfc, palette=pal[[1,4]], )\n",
    "plt.xticks(rotation=10);\n"
   ]
  },
  {
   "cell_type": "code",
   "execution_count": 28,
   "metadata": {
    "colab": {
     "base_uri": "https://localhost:8080/",
     "height": 715
    },
    "id": "pt5f887koCag",
    "outputId": "4b36beb4-a700-413e-fb3f-a173e2107d38"
   },
   "outputs": [
    {
     "name": "stderr",
     "output_type": "stream",
     "text": [
      "/tmp/ipykernel_806/4079286984.py:1: FutureWarning: Using a non-tuple sequence for multidimensional indexing is deprecated; use `arr[tuple(seq)]` instead of `arr[seq]`. In the future this will be interpreted as an array index, `arr[np.array(seq)]`, which will result either in an error or a different result.\n",
      "  sb.countplot(x='LoanStatus',  hue='IncomeRange', data=dfc, palette=pal[[...]], )\n"
     ]
    },
    {
     "data": {
      "image/png": "[encoded data removed]",
      "text/plain": [
       "<Figure size 1440x720 with 1 Axes>"
      ]
     },
     "metadata": {
      "needs_background": "light"
     },
     "output_type": "display_data"
    }
   ],
   "source": [
    "sb.countplot(x='LoanStatus',  hue='IncomeRange', data=dfc, palette=pal[[...]], )\n",
    "plt.xticks(rotation=10);"
   ]
  },
  {
   "cell_type": "code",
   "execution_count": null,
   "metadata": {
    "id": "HOc8WIIXqQ1m"
   },
   "outputs": [],
   "source": []
  },
  {
   "cell_type": "markdown",
   "metadata": {
    "id": "6vVHVyT6XMDA"
   },
   "source": [
    "NOt all data is useful\n",
    "get the most relevent columns"
   ]
  },
  {
   "cell_type": "code",
   "execution_count": 29,
   "metadata": {
    "colab": {
     "base_uri": "https://localhost:8080/",
     "height": 697
    },
    "id": "Mde3vO-blTNh",
    "outputId": "7aa31d98-323e-45b0-dca9-36bab2027b3d"
   },
   "outputs": [
    {
     "data": {
      "text/plain": [
       "(array([ 0,  1,  2,  3,  4,  5,  6,  7,  8,  9, 10, 11]),\n",
       " [Text(0, 0, 'Completed'),\n",
       "  Text(1, 0, 'Current'),\n",
       "  Text(2, 0, 'Past Due (1-15 days)'),\n",
       "  Text(3, 0, 'Defaulted'),\n",
       "  Text(4, 0, 'Chargedoff'),\n",
       "  Text(5, 0, 'Past Due (16-30 days)'),\n",
       "  Text(6, 0, 'Cancelled'),\n",
       "  Text(7, 0, 'Past Due (61-90 days)'),\n",
       "  Text(8, 0, 'Past Due (31-60 days)'),\n",
       "  Text(9, 0, 'Past Due (91-120 days)'),\n",
       "  Text(10, 0, 'FinalPaymentInProgress'),\n",
       "  Text(11, 0, 'Past Due (>120 days)')])"
      ]
     },
     "execution_count": 29,
     "metadata": {},
     "output_type": "execute_result"
    },
    {
     "data": {
      "image/png": "[encoded data removed]",
      "text/plain": [
       "<Figure size 1440x720 with 1 Axes>"
      ]
     },
     "metadata": {
      "needs_background": "light"
     },
     "output_type": "display_data"
    }
   ],
   "source": [
    "pal = np.array(sb.color_palette())\n",
    "\n",
    "sb.countplot(x='LoanStatus', data=dfc, palette=pal[[1,4]])\n",
    "plt.xticks(rotation=30)"
   ]
  },
  {
   "cell_type": "code",
   "execution_count": 30,
   "metadata": {
    "id": "RK1ukkomqVl2"
   },
   "outputs": [],
   "source": [
    "# pd.plotting.scatter_matrix(dfc)"
   ]
  },
  {
   "cell_type": "markdown",
   "metadata": {
    "id": "ZjmwBDtIWpDV"
   },
   "source": [
    "### What is the structure of your dataset?\n",
    "\n",
    "> Your answer here!\n",
    "\n",
    "Loanstatus is catagorical, Brower income in catagorical\n",
    "\n",
    "### What is/are the main feature(s) of interest in your dataset?\n",
    "\n",
    "> Your answer here!\n",
    "\n",
    "LoanStatus, and Brower income\n",
    "\n",
    "### What features in the dataset do you think will help support your investigation into your feature(s) of interest?\n",
    "\n",
    "> Your answer here!\n",
    "\n",
    "LoanStatus, and Brower income\n",
    "\n"
   ]
  },
  {
   "cell_type": "markdown",
   "metadata": {
    "id": "jkbIIr95WpDX"
   },
   "source": [
    "## Univariate Exploration\n",
    "\n",
    "> In this section, investigate distributions of individual variables. If\n",
    "you see unusual points or outliers, take a deeper look to clean things up\n",
    "and prepare yourself to look at relationships between variables."
   ]
  },
  {
   "cell_type": "code",
   "execution_count": null,
   "metadata": {
    "id": "hEW5M9GcWpDZ"
   },
   "outputs": [],
   "source": []
  },
  {
   "cell_type": "code",
   "execution_count": 31,
   "metadata": {
    "colab": {
     "base_uri": "https://localhost:8080/",
     "height": 661
    },
    "id": "ejw7CVuUp3qO",
    "outputId": "b58e671d-6f57-48b9-d888-23a50b269eb5"
   },
   "outputs": [
    {
     "data": {
      "image/png": "[encoded data removed]",
      "text/plain": [
       "<Figure size 1440x720 with 1 Axes>"
      ]
     },
     "metadata": {
      "needs_background": "light"
     },
     "output_type": "display_data"
    }
   ],
   "source": [
    "pal = np.array(sb.color_palette())\n",
    "plt.rcParams['figure.figsize'] = (20, 10)\n",
    "\n",
    "sb.countplot(x='LoanStatus', data=dfc, palette=pal[[1,4]], order=dfc.LoanStatus.value_counts().index)\n",
    "plt.xticks(rotation=10);\n"
   ]
  },
  {
   "cell_type": "markdown",
   "metadata": {
    "id": "wJA0XoHUWpDe"
   },
   "source": [
    "> Make sure that, after every plot or related series of plots, that you\n",
    "include a Markdown cell with comments about what you observed, and what\n",
    "you plan on investigating next."
   ]
  },
  {
   "cell_type": "code",
   "execution_count": 32,
   "metadata": {
    "id": "f3scLa0JWpDg"
   },
   "outputs": [
    {
     "data": {
      "image/png": "[encoded data removed]",
      "text/plain": [
       "<Figure size 1440x720 with 1 Axes>"
      ]
     },
     "metadata": {
      "needs_background": "light"
     },
     "output_type": "display_data"
    }
   ],
   "source": [
    "sb.countplot(x='IncomeRange', data=dfc, palette=pal[[1,4]],  order=dfc['IncomeRange'].value_counts().index)\n",
    "plt.xticks(rotation=10);\n"
   ]
  },
  {
   "cell_type": "code",
   "execution_count": 33,
   "metadata": {},
   "outputs": [
    {
     "data": {
      "image/png": "[encoded data removed]",
      "text/plain": [
       "<Figure size 1440x720 with 1 Axes>"
      ]
     },
     "metadata": {
      "needs_background": "light"
     },
     "output_type": "display_data"
    }
   ],
   "source": [
    "sb.countplot(x='LoanStatus', data=dfc, palette=pal[[1,4]],  order=dfc['LoanStatus'].value_counts().index)\n",
    "plt.xticks(rotation=10);\n"
   ]
  },
  {
   "cell_type": "code",
   "execution_count": 34,
   "metadata": {},
   "outputs": [
    {
     "data": {
      "image/png": "[encoded data removed]",
      "text/plain": [
       "<Figure size 1440x720 with 1 Axes>"
      ]
     },
     "metadata": {
      "needs_background": "light"
     },
     "output_type": "display_data"
    }
   ],
   "source": [
    "sb.countplot(x='IsBorrowerHomeowner', data=dfc, palette=pal[[1,4]],  order=dfc['IsBorrowerHomeowner'].value_counts().index)\n",
    "plt.xticks(rotation=10);\n"
   ]
  },
  {
   "cell_type": "markdown",
   "metadata": {
    "id": "akDbp35_WpDj"
   },
   "source": [
    "### Discuss the distribution(s) of your variable(s) of interest. Were there any unusual points? Did you need to perform any transformations?\n",
    "\n",
    "> Your answer here!\n",
    "\n",
    "I needed to use dummies for LoanStatus\n",
    "\n",
    "### Of the features you investigated, were there any unusual distributions? Did you perform any operations on the data to tidy, adjust, or change the form of the data? If so, why did you do this?\n",
    "\n",
    "> Your answer here!\n",
    "\n",
    "most of the borrowers are between 25k to 75k of income\n",
    "\n",
    "LoanStatus, and Brower income\n",
    "\n",
    "I needed to use dummies for LoanStatus for further exploration\n"
   ]
  },
  {
   "cell_type": "markdown",
   "metadata": {
    "id": "vwHMaZCeWpDk"
   },
   "source": [
    "## Bivariate Exploration\n",
    "\n",
    "> In this section, investigate relationships between pairs of variables in your\n",
    "data. Make sure the variables that you cover here have been introduced in some\n",
    "fashion in the previous section (univariate exploration)."
   ]
  },
  {
   "cell_type": "code",
   "execution_count": 35,
   "metadata": {
    "colab": {
     "base_uri": "https://localhost:8080/",
     "height": 715
    },
    "id": "nqQ1Md5lWpDm",
    "outputId": "a4670b22-e168-4fd7-b4e3-2bd0a7f0b90a"
   },
   "outputs": [
    {
     "name": "stderr",
     "output_type": "stream",
     "text": [
      "/tmp/ipykernel_806/1159577133.py:1: FutureWarning: Using a non-tuple sequence for multidimensional indexing is deprecated; use `arr[tuple(seq)]` instead of `arr[seq]`. In the future this will be interpreted as an array index, `arr[np.array(seq)]`, which will result either in an error or a different result.\n",
      "  sb.countplot(x='LoanStatus',  hue='IncomeRange', data=dfc,  palette=pal[[...]], )\n"
     ]
    },
    {
     "data": {
      "image/png": "[encoded data removed]",
      "text/plain": [
       "<Figure size 1440x720 with 1 Axes>"
      ]
     },
     "metadata": {
      "needs_background": "light"
     },
     "output_type": "display_data"
    }
   ],
   "source": [
    "sb.countplot(x='LoanStatus',  hue='IncomeRange', data=dfc,  palette=pal[[...]], )\n",
    "plt.xticks(rotation=10);"
   ]
  },
  {
   "cell_type": "code",
   "execution_count": 36,
   "metadata": {},
   "outputs": [
    {
     "name": "stderr",
     "output_type": "stream",
     "text": [
      "/tmp/ipykernel_806/2885042249.py:8: FutureWarning: Using a non-tuple sequence for multidimensional indexing is deprecated; use `arr[tuple(seq)]` instead of `arr[seq]`. In the future this will be interpreted as an array index, `arr[np.array(seq)]`, which will result either in an error or a different result.\n",
      "  fig = sb.barplot(x='LoanStatus', y='intercept', hue='IncomeRange', data=inter,  palette=pal[[...]])\n"
     ]
    },
    {
     "data": {
      "text/plain": [
       "Text(0.5, 1.0, 'loan status proportion')"
      ]
     },
     "execution_count": 36,
     "metadata": {},
     "output_type": "execute_result"
    },
    {
     "data": {
      "image/png": "[encoded data removed]",
      "text/plain": [
       "<Figure size 1440x720 with 1 Axes>"
      ]
     },
     "metadata": {
      "needs_background": "light"
     },
     "output_type": "display_data"
    }
   ],
   "source": [
    "dfc['intercept'] = 1\n",
    "prop = dfc.groupby(['LoanStatus', 'IncomeRange']).count()/ dfc.groupby('LoanStatus').count()\n",
    "inter = prop.intercept.reset_index()\n",
    "inter = inter.replace(np.nan, 0)\n",
    "inter\n",
    "# inter.plot(kind='bar', )\n",
    "# prop[loan_status.columns]\n",
    "fig = sb.barplot(x='LoanStatus', y='intercept', hue='IncomeRange', data=inter,  palette=pal[[...]])\n",
    "fig.set_title(\"loan status proportion\")\n",
    "# plt.xticks(rotation=10)"
   ]
  },
  {
   "cell_type": "code",
   "execution_count": null,
   "metadata": {},
   "outputs": [],
   "source": []
  },
  {
   "cell_type": "markdown",
   "metadata": {
    "id": "TTiI40ojWpDm"
   },
   "source": [
    "### Talk about some of the relationships you observed in this part of the investigation. How did the feature(s) of interest vary with other features in the dataset?\n",
    "\n",
    "> Your answer here!\n",
    "\n",
    "I am interested on how the employment status affect the loan status\n",
    "\n",
    "\n",
    "### Did you observe any interesting relationships between the other features (not the main feature(s) of interest)?\n",
    "\n",
    "> Your answer here!\n",
    "\n",
    "I observed that the not displayed income is very interesting it has a very significant high defaulting rate as well as cancelation rate followed by the category of 25K-50K income,\n",
    "While zero income and not employed has the lowest defaulting rate"
   ]
  },
  {
   "cell_type": "markdown",
   "metadata": {
    "id": "87AUrBDXWpDo"
   },
   "source": [
    "## Multivariate Exploration\n",
    "\n",
    "> Create plots of three or more variables to investigate your data even\n",
    "further. Make sure that your investigations are justified, and follow from\n",
    "your work in the previous sections."
   ]
  },
  {
   "cell_type": "code",
   "execution_count": 37,
   "metadata": {
    "colab": {
     "base_uri": "https://localhost:8080/",
     "height": 715
    },
    "id": "8RqoqTcXWpDp",
    "outputId": "ce3e3c11-f09b-48dd-fd20-34a29443c1f0"
   },
   "outputs": [
    {
     "name": "stderr",
     "output_type": "stream",
     "text": [
      "/tmp/ipykernel_806/664127988.py:2: FutureWarning: Using a non-tuple sequence for multidimensional indexing is deprecated; use `arr[tuple(seq)]` instead of `arr[seq]`. In the future this will be interpreted as an array index, `arr[np.array(seq)]`, which will result either in an error or a different result.\n",
      "  sb.barplot(x='LoanStatus', y=\"LenderYield\" , hue='IncomeRange', data=dfc,  palette=pal[[...]])\n"
     ]
    },
    {
     "data": {
      "image/png": "[encoded data removed]",
      "text/plain": [
       "<Figure size 1440x720 with 1 Axes>"
      ]
     },
     "metadata": {
      "needs_background": "light"
     },
     "output_type": "display_data"
    }
   ],
   "source": [
    "# sb.stripplot(x='LoanStatus', y=\"ListingCategory (numeric)\" , hue='IncomeRange', data=dfc,  palette=pal[[...]], jitter=0.3)\n",
    "sb.barplot(x='LoanStatus', y=\"LenderYield\" , hue='IncomeRange', data=dfc,  palette=pal[[...]])\n",
    "plt.xticks(rotation=10);\n",
    "\n"
   ]
  },
  {
   "cell_type": "code",
   "execution_count": 38,
   "metadata": {
    "colab": {
     "base_uri": "https://localhost:8080/",
     "height": 715
    },
    "id": "rrmIVNzzopCS",
    "outputId": "70c01916-dd8c-422a-d2a8-2793fbc28f67"
   },
   "outputs": [
    {
     "name": "stderr",
     "output_type": "stream",
     "text": [
      "/tmp/ipykernel_806/3661964872.py:5: FutureWarning: Using a non-tuple sequence for multidimensional indexing is deprecated; use `arr[tuple(seq)]` instead of `arr[seq]`. In the future this will be interpreted as an array index, `arr[np.array(seq)]`, which will result either in an error or a different result.\n",
      "  fig = sb.barplot(x='LoanStatus', y='LenderYield', hue='IsBorrowerHomeowner', data=dfc,  palette=pal[[...]])\n"
     ]
    },
    {
     "data": {
      "image/png": "[encoded data removed]",
      "text/plain": [
       "<Figure size 1440x720 with 1 Axes>"
      ]
     },
     "metadata": {
      "needs_background": "light"
     },
     "output_type": "display_data"
    }
   ],
   "source": [
    "\n",
    "\n",
    "# dfs1 = pd.melt(dfs, id_vars = \"LoanStatus\")\n",
    "\n",
    "\n",
    "# sb.stripplot(x='LoanStatus', y=\"LenderYield\" , hue='IncomeRange', data=dfc,  palette=pal[[...]], jitter=0.3)\n",
    "fig = sb.barplot(x='LoanStatus', y='LenderYield', hue='IsBorrowerHomeowner', data=dfc,  palette=pal[[...]])\n",
    "# sb.barplot\n",
    "fig.set_title(\"loan status, for is borower homeowner\")\n",
    "plt.xticks(rotation=10);\n",
    "\n"
   ]
  },
  {
   "cell_type": "code",
   "execution_count": 39,
   "metadata": {
    "colab": {
     "base_uri": "https://localhost:8080/",
     "height": 728
    },
    "id": "Spp2Nw0OoZCd",
    "outputId": "bf29ed8b-b170-47ab-ef5e-d414166f62eb"
   },
   "outputs": [
    {
     "name": "stderr",
     "output_type": "stream",
     "text": [
      "/opt/conda/lib/python3.9/site-packages/seaborn/axisgrid.py:670: UserWarning: Using the barplot function without specifying `order` is likely to produce an incorrect plot.\n",
      "  warnings.warn(warning)\n"
     ]
    },
    {
     "data": {
      "text/plain": [
       "<seaborn.axisgrid.FacetGrid at 0x7ff33694ddf0>"
      ]
     },
     "execution_count": 39,
     "metadata": {},
     "output_type": "execute_result"
    },
    {
     "data": {
      "image/png": "[encoded data removed]",
      "text/plain": [
       "<Figure size 648x648 with 8 Axes>"
      ]
     },
     "metadata": {
      "needs_background": "light"
     },
     "output_type": "display_data"
    }
   ],
   "source": [
    "# \"IsBorrowerHomeowner\"\n",
    "\n",
    "g = sb.FacetGrid(dfc, col=\"IncomeRange\", col_wrap=3)\n",
    "g.map(sb.barplot, \"LenderYield\", \"LoanStatus\")"
   ]
  },
  {
   "cell_type": "markdown",
   "metadata": {
    "id": "N146H8gUWpDq"
   },
   "source": [
    "### Talk about some of the relationships you observed in this part of the investigation. Were there features that strengthened each other in terms of looking at your feature(s) of interest?\n",
    "\n",
    "> Your answer here!\n",
    "\n",
    "I can't very much get the data \n",
    "But it seams that the lender yield have a lower variance for people with incomrange 25K-50k\n",
    "\n",
    "\n",
    "### Were there any interesting or surprising interactions between features?\n",
    "\n",
    "> Your answer here!\n",
    "\n",
    " it seams that the lender yield have a lower variance for people with incomrange 25K-50k"
   ]
  },
  {
   "cell_type": "markdown",
   "metadata": {
    "id": "ul3hlwNWWpDu"
   },
   "source": [
    "> At the end of your report, make sure that you export the notebook as an\n",
    "html file from the `File > Download as... > HTML` menu. Make sure you keep\n",
    "track of where the exported file goes, so you can put it in the same folder\n",
    "as this notebook for project submission. Also, make sure you remove all of\n",
    "the quote-formatted guide notes like this one before you finish your report!"
   ]
  },
  {
   "cell_type": "code",
   "execution_count": 41,
   "metadata": {
    "id": "NQpg36c6WpDy"
   },
   "outputs": [
    {
     "name": "stdout",
     "output_type": "stream",
     "text": [
      "done\n"
     ]
    }
   ],
   "source": [
    "print('done')\n",
    "# raise \"Stop\""
   ]
  },
  {
   "cell_type": "code",
   "execution_count": 44,
   "metadata": {},
   "outputs": [
    {
     "name": "stdout",
     "output_type": "stream",
     "text": [
      "[NbConvertApp] Converting notebook exploration_template.ipynb to html\n",
      "[NbConvertApp] Writing 1159445 bytes to exploration_template.html\n"
     ]
    }
   ],
   "source": [
    "\n",
    "!jupyter nbconvert exploration_template.ipynb --to html\n"
   ]
  },
  {
   "cell_type": "code",
   "execution_count": null,
   "metadata": {},
   "outputs": [],
   "source": []
  }
 ],
 "metadata": {
  "colab": {
   "collapsed_sections": [],
   "name": "exploration_template.ipynb",
   "provenance": []
  },
  "kernelspec": {
   "display_name": "Python 3 (ipykernel)",
   "language": "python",
   "name": "python3"
  },
  "language_info": {
   "codemirror_mode": {
    "name": "ipython",
    "version": 3
   },
   "file_extension": ".py",
   "mimetype": "text/x-python",
   "name": "python",
   "nbconvert_exporter": "python",
   "pygments_lexer": "ipython3",
   "version": "3.9.7"
  }
 },
 "nbformat": 4,
 "nbformat_minor": 4
}
